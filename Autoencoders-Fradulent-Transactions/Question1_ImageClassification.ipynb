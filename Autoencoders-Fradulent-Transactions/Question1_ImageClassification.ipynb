{
 "cells": [
  {
   "cell_type": "markdown",
   "metadata": {},
   "source": [
    "# Question 1"
   ]
  },
  {
   "cell_type": "markdown",
   "metadata": {},
   "source": [
    "**The MNIST handwritten digit dataset is one of the most commonly used datasets for image classification. You can access the \n",
    "dataset here: http://yann.lecun.com/exdb/mnist/. It is also available in many ML packages such as TensorFlow, PyTorch, FastAI. \n",
    "Feel free to directly load the dataset via either source. After obtaining the data, design a neural network architecture to perform \n",
    "digit recognition and share your code implementing the NN and appropriate performance metrics on the test set.**"
   ]
  },
  {
   "cell_type": "markdown",
   "metadata": {},
   "source": [
    "# Background"
   ]
  },
  {
   "cell_type": "markdown",
   "metadata": {},
   "source": [
    "For the given problem, aim is to correctly identify digits from a dataset of tens of thousands of handwritten images."
   ]
  },
  {
   "cell_type": "markdown",
   "metadata": {},
   "source": [
    "# Proposed Solution"
   ]
  },
  {
   "cell_type": "markdown",
   "metadata": {},
   "source": [
    "This is an image classification problem. Following NN can be used to classify the handwritten digits.\n",
    "1. Simple Neural Network with hidden layers\n",
    "2. Convolutional Neural Network etc."
   ]
  },
  {
   "cell_type": "markdown",
   "metadata": {},
   "source": [
    "<h3> In this notebook, a simple neural network architecture with input layer, 4 hidden layer and output layer has been demonstrated.<h3>"
   ]
  },
  {
   "cell_type": "markdown",
   "metadata": {},
   "source": [
    "# Importing Libraries and Reading Data"
   ]
  },
  {
   "cell_type": "markdown",
   "metadata": {},
   "source": [
    "**Importing Libraries**"
   ]
  },
  {
   "cell_type": "code",
   "execution_count": 138,
   "metadata": {},
   "outputs": [],
   "source": [
    "# importing libraries\n",
    "import tensorflow as tf\n",
    "from tensorflow.keras.datasets import mnist\n",
    "import matplotlib.pyplot as plt\n",
    "import numpy as np\n",
    "from tensorflow.keras.layers import Input, Dense, Activation, Conv2D, MaxPooling2D, Dropout, Flatten\n",
    "from tensorflow.keras.models import Model, Sequential\n",
    "from tensorflow.keras.optimizers import Adam\n",
    "from tensorflow.keras.callbacks import ModelCheckpoint, TensorBoard, Callback, EarlyStopping\n",
    "from sklearn.metrics import f1_score, roc_auc_score, accuracy_score \n",
    "from tensorflow.keras.losses import categorical_crossentropy\n",
    "from sklearn.model_selection import train_test_split\n",
    "import os\n",
    "import datetime"
   ]
  },
  {
   "cell_type": "markdown",
   "metadata": {},
   "source": [
    "**Loading the dataset using Keras API**"
   ]
  },
  {
   "cell_type": "code",
   "execution_count": 169,
   "metadata": {},
   "outputs": [],
   "source": [
    "# loading the data\n",
    "(x_train, y_train), (x_test, y_test) = tf.keras.datasets.mnist.load_data()"
   ]
  },
  {
   "cell_type": "markdown",
   "metadata": {},
   "source": [
    "**Total Number of samples**"
   ]
  },
  {
   "cell_type": "code",
   "execution_count": 170,
   "metadata": {},
   "outputs": [
    {
     "name": "stdout",
     "output_type": "stream",
     "text": [
      "Number of training sample is 60000\n",
      "Number of test sample is 10000\n"
     ]
    }
   ],
   "source": [
    "print(\"Number of training sample is\",x_train.shape[0])\n",
    "print(\"Number of test sample is\",x_test.shape[0])"
   ]
  },
  {
   "cell_type": "markdown",
   "metadata": {},
   "source": [
    "**Shape of the train, validation and test sample**"
   ]
  },
  {
   "cell_type": "code",
   "execution_count": 171,
   "metadata": {},
   "outputs": [
    {
     "name": "stdout",
     "output_type": "stream",
     "text": [
      "Shape of training samples is (60000, 28, 28)\n",
      "Shape of test samples is (10000, 28, 28)\n"
     ]
    }
   ],
   "source": [
    "print(\"Shape of training samples is\",x_train.shape)\n",
    "print(\"Shape of test samples is\",x_test.shape)"
   ]
  },
  {
   "cell_type": "markdown",
   "metadata": {},
   "source": [
    "**Shape of the train, validation and test sample - labels**"
   ]
  },
  {
   "cell_type": "code",
   "execution_count": 172,
   "metadata": {},
   "outputs": [
    {
     "name": "stdout",
     "output_type": "stream",
     "text": [
      "Shape of labels for training samples is (60000,)\n",
      "Shape of labels for test samples is (10000,)\n"
     ]
    }
   ],
   "source": [
    "print(\"Shape of labels for training samples is\",y_train.shape)\n",
    "print(\"Shape of labels for test samples is\",y_test.shape)"
   ]
  },
  {
   "cell_type": "markdown",
   "metadata": {},
   "source": [
    "**First Training Example**"
   ]
  },
  {
   "cell_type": "code",
   "execution_count": 7,
   "metadata": {},
   "outputs": [
    {
     "name": "stdout",
     "output_type": "stream",
     "text": [
      "first training example shape (28, 28)\n",
      "[[  0   0   0   0   0   0   0   0   0   0   0   0   0   0   0   0   0   0\n",
      "    0   0   0   0   0   0   0   0   0   0]\n",
      " [  0   0   0   0   0   0   0   0   0   0   0   0   0   0   0   0   0   0\n",
      "    0   0   0   0   0   0   0   0   0   0]\n",
      " [  0   0   0   0   0   0   0   0   0   0   0   0   0   0   0   0   0   0\n",
      "    0   0   0   0   0   0   0   0   0   0]\n",
      " [  0   0   0   0   0   0   0   0   0   0   0   0   0   0   0   0   0   0\n",
      "    0   0   0   0   0   0   0   0   0   0]\n",
      " [  0   0   0   0   0   0   0   0   0   0   0   0   0   0   0   0   0   0\n",
      "    0   0   0   0   0   0   0   0   0   0]\n",
      " [  0   0   0   0   0   0   0   0   0   0   0   0   0   0   0   0   0   0\n",
      "    0  17  47  47  47  47  47  47  28   0]\n",
      " [  0   0   0   0   0   0   0   0   0  14  63   0   0   0  62 138 197 197\n",
      "  197 217 253 253 253 253 253 253 230   0]\n",
      " [  0   0   0   0   0   0   0   0   0 151 170   0  56 232 250 253 231 217\n",
      "  217 217 217 217 217 217 128 179 132   0]\n",
      " [  0   0   0   0   0   0   0   0 104 251 170  20 233 253 199  84  26   0\n",
      "    0   0   0   0   0   0   0   0   0   0]\n",
      " [  0   0   0   0   0   0   0   5 203 253 160   3  20  20   7   0   0   0\n",
      "    0   0   0   0   0   0   0   0   0   0]\n",
      " [  0   0   0   0   0   0   0  77 253 228  21   0   0   0   0   0   0   0\n",
      "    0   0   0   0   0   0   0   0   0   0]\n",
      " [  0   0   0   0   0   0   0 150 253 249 223 223 193  71   6   0   0   0\n",
      "    0   0   0   0   0   0   0   0   0   0]\n",
      " [  0   0   0   0   0   0   0 126 253 253 253 253 253 253 196 121   0   0\n",
      "    0   0   0   0   0   0   0   0   0   0]\n",
      " [  0   0   0   0   0   0   0   8 202 191 144 144 217 251 253 253 170   4\n",
      "    0   0   0   0   0   0   0   0   0   0]\n",
      " [  0   0   0   0   0   0   0   0   0   0   0   0   0  53 236 253 253 215\n",
      "    3   0   0   0   0   0   0   0   0   0]\n",
      " [  0   0   0   0   0   0   0   0   0   0   0   0   0   0  34 180 253 253\n",
      "  128   0   0   0   0   0   0   0   0   0]\n",
      " [  0   0   0   0   0   0   0   0   0   0   0   0   0   0   0   2 140 253\n",
      "  236  36   0   0   0   0   0   0   0   0]\n",
      " [  0   0   0   0   0   0   0  37   0   0   0   0   0   0   0   0  13 215\n",
      "  253  62   0   0   0   0   0   0   0   0]\n",
      " [  0   0   0   0   0   0   0 246  53   0   0   0   0   0   0   0   0 105\n",
      "  253  62   0   0   0   0   0   0   0   0]\n",
      " [  0   0   0   0   0   0   0 254  57   0   0   0   0   0   0   0   0  99\n",
      "  253  62   0   0   0   0   0   0   0   0]\n",
      " [  0   0   0   0   0   0   0 255  65   0   0   0   0   0   0   0  35 217\n",
      "  253  62   0   0   0   0   0   0   0   0]\n",
      " [  0   0   0   0   0   0   0 227 223 115  18   0   0   5  68 113 222 253\n",
      "  242  46   0   0   0   0   0   0   0   0]\n",
      " [  0   0   0   0   0   0   0  41 224 253 227 218 218 220 253 253 253 249\n",
      "   76   0   0   0   0   0   0   0   0   0]\n",
      " [  0   0   0   0   0   0   0   0  35 150 215 253 253 253 253 205 175  57\n",
      "    0   0   0   0   0   0   0   0   0   0]\n",
      " [  0   0   0   0   0   0   0   0   0   0  16  46  46  46  46   8   0   0\n",
      "    0   0   0   0   0   0   0   0   0   0]\n",
      " [  0   0   0   0   0   0   0   0   0   0   0   0   0   0   0   0   0   0\n",
      "    0   0   0   0   0   0   0   0   0   0]\n",
      " [  0   0   0   0   0   0   0   0   0   0   0   0   0   0   0   0   0   0\n",
      "    0   0   0   0   0   0   0   0   0   0]\n",
      " [  0   0   0   0   0   0   0   0   0   0   0   0   0   0   0   0   0   0\n",
      "    0   0   0   0   0   0   0   0   0   0]]\n",
      "\n",
      "\n",
      "\n",
      "first label for first training example shape ()\n",
      "5\n"
     ]
    }
   ],
   "source": [
    "print(\"first training example shape\", x_train[0].shape)\n",
    "print(x_train[0])\n",
    "print(\"\\n\\n\")\n",
    "print(\"first label for first training example shape\", y_train[0].shape)\n",
    "print(y_train[0])"
   ]
  },
  {
   "cell_type": "markdown",
   "metadata": {},
   "source": [
    "**Visualizing first training example**"
   ]
  },
  {
   "cell_type": "code",
   "execution_count": 8,
   "metadata": {},
   "outputs": [
    {
     "data": {
      "image/png": "[encoded data removed]",
      "text/plain": [
       "<Figure size 432x288 with 1 Axes>"
      ]
     },
     "metadata": {
      "needs_background": "light"
     },
     "output_type": "display_data"
    }
   ],
   "source": [
    "# first image from the training set\n",
    "plt.imshow(x_train[0])\n",
    "plt.xlabel([y_train[0]])\n",
    "plt.show()"
   ]
  },
  {
   "cell_type": "markdown",
   "metadata": {},
   "source": [
    "**Distribution of Target Variable**"
   ]
  },
  {
   "cell_type": "code",
   "execution_count": 9,
   "metadata": {},
   "outputs": [
    {
     "name": "stdout",
     "output_type": "stream",
     "text": [
      "{0: 4748, 1: 5420, 2: 4784, 3: 4912, 4: 4666, 5: 4317, 6: 4741, 7: 4966, 8: 4691, 9: 4755}\n"
     ]
    }
   ],
   "source": [
    "# unique labels from training set and count\n",
    "unique_labels, labels_counts = np.unique(y_train, return_counts=True)\n",
    "label_stats = dict(zip(unique_labels, labels_counts))\n",
    "print(label_stats)"
   ]
  },
  {
   "cell_type": "code",
   "execution_count": 10,
   "metadata": {},
   "outputs": [
    {
     "data": {
      "image/png": "[encoded data removed]",
      "text/plain": [
       "<Figure size 720x360 with 1 Axes>"
      ]
     },
     "metadata": {
      "needs_background": "light"
     },
     "output_type": "display_data"
    }
   ],
   "source": [
    "fig = plt.figure(figsize = (10, 5))\n",
    "plt.bar(unique_labels, labels_counts, color ='blue')\n",
    " \n",
    "plt.xlabel(\"Digits\")\n",
    "plt.ylabel(\"Frequency of Digits\")\n",
    "plt.title(\"Label Distribution for Training Set\")\n",
    "plt.show()"
   ]
  },
  {
   "cell_type": "markdown",
   "metadata": {},
   "source": [
    "**Observations**\n",
    "1. Dataset is balanced as we can seen the distribution of target variable."
   ]
  },
  {
   "cell_type": "markdown",
   "metadata": {},
   "source": [
    "# Feature Normalization"
   ]
  },
  {
   "cell_type": "code",
   "execution_count": 140,
   "metadata": {},
   "outputs": [
    {
     "name": "stdout",
     "output_type": "stream",
     "text": [
      "x_train shape: (60000, 28, 28, 1)\n",
      "x_test shape: (10000, 28, 28, 1)\n"
     ]
    }
   ],
   "source": [
    "img_rows, img_cols = 28, 28\n",
    "\n",
    "# reshaping\n",
    "x_train = x_train.reshape(x_train.shape[0], img_rows, img_cols, 1)\n",
    "x_test = x_test.reshape(x_test.shape[0], img_rows, img_cols, 1)\n",
    "input_shape = (img_rows, img_cols, 1)\n",
    "\n",
    "# scaling\n",
    "x_train = x_train.astype('float32')\n",
    "x_test = x_test.astype('float32')\n",
    "x_train /= 255\n",
    "x_test /= 255\n",
    "\n",
    "print('x_train shape:', x_train.shape)\n",
    "print('x_test shape:', x_test.shape)"
   ]
  },
  {
   "cell_type": "code",
   "execution_count": 141,
   "metadata": {},
   "outputs": [],
   "source": [
    "# convert target variable to binary class matrices\n",
    "num_classes = 10\n",
    "y_train = tf.keras.utils.to_categorical(y_train, num_classes)\n",
    "#y_val = tf.keras.utils.to_categorical(y_val, num_classes)\n",
    "y_test = tf.keras.utils.to_categorical(y_test, num_classes)"
   ]
  },
  {
   "cell_type": "code",
   "execution_count": 142,
   "metadata": {},
   "outputs": [
    {
     "name": "stdout",
     "output_type": "stream",
     "text": [
      "[0. 0. 0. 0. 0. 1. 0. 0. 0. 0.]\n"
     ]
    }
   ],
   "source": [
    "print(y_train[0])"
   ]
  },
  {
   "cell_type": "markdown",
   "metadata": {},
   "source": [
    "# Model Fitting"
   ]
  },
  {
   "cell_type": "markdown",
   "metadata": {},
   "source": [
    "**Model Architecture**"
   ]
  },
  {
   "cell_type": "code",
   "execution_count": 153,
   "metadata": {},
   "outputs": [],
   "source": [
    "model = Sequential()\n",
    "model.add(Conv2D(25, kernel_size=(3,3), strides=(1,1), padding='valid', activation='relu', input_shape=(28,28,1)))\n",
    "model.add(MaxPooling2D(pool_size=(1,1)))\n",
    "model.add(Flatten())\n",
    "model.add(Dense(100, activation='relu'))\n",
    "model.add(Dense(10, activation='softmax'))"
   ]
  },
  {
   "cell_type": "markdown",
   "metadata": {},
   "source": [
    "**Model Summary**"
   ]
  },
  {
   "cell_type": "code",
   "execution_count": 156,
   "metadata": {},
   "outputs": [
    {
     "name": "stdout",
     "output_type": "stream",
     "text": [
      "Model: \"sequential_19\"\n",
      "_________________________________________________________________\n",
      "Layer (type)                 Output Shape              Param #   \n",
      "=================================================================\n",
      "conv2d_35 (Conv2D)           (None, 26, 26, 25)        250       \n",
      "_________________________________________________________________\n",
      "max_pooling2d_22 (MaxPooling (None, 26, 26, 25)        0         \n",
      "_________________________________________________________________\n",
      "flatten_18 (Flatten)         (None, 16900)             0         \n",
      "_________________________________________________________________\n",
      "dense_34 (Dense)             (None, 100)               1690100   \n",
      "_________________________________________________________________\n",
      "dense_35 (Dense)             (None, 10)                1010      \n",
      "=================================================================\n",
      "Total params: 1,691,360\n",
      "Trainable params: 1,691,360\n",
      "Non-trainable params: 0\n",
      "_________________________________________________________________\n"
     ]
    }
   ],
   "source": [
    "model.summary()"
   ]
  },
  {
   "cell_type": "code",
   "execution_count": 157,
   "metadata": {},
   "outputs": [],
   "source": [
    "#tf.keras.utils.plot_model(model, to_file=\"image_classification_nn_architecture\", show_shapes=True)"
   ]
  },
  {
   "cell_type": "markdown",
   "metadata": {},
   "source": [
    "**Defining Checkpoint, tensorboard and Early Stopping**"
   ]
  },
  {
   "cell_type": "code",
   "execution_count": 158,
   "metadata": {},
   "outputs": [
    {
     "name": "stdout",
     "output_type": "stream",
     "text": [
      "WARNING:tensorflow:`write_grads` will be ignored in TensorFlow 2.0 for the `TensorBoard` Callback.\n"
     ]
    },
    {
     "name": "stderr",
     "output_type": "stream",
     "text": [
      "WARNING:tensorflow:`write_grads` will be ignored in TensorFlow 2.0 for the `TensorBoard` Callback.\n"
     ]
    }
   ],
   "source": [
    "checkpoint = ModelCheckpoint(\"./model_checkpoint/img_classification_model.hdf5\", monitor='val_accuracy', verbose=1, save_best_only=True, mode='max')\n",
    "\n",
    "logdir = os.path.join(\"logs\", datetime.datetime.now().strftime(\"%Y%m%d-%H%M%S\"))\n",
    "tensorboard_callback = TensorBoard(logdir,histogram_freq=0, write_graph=True,write_grads=True)\n",
    "\n",
    "es = EarlyStopping(monitor='val_accuracy', mode='max', verbose = 1, patience=2)\n",
    "\n",
    "callbacks_list = [es, checkpoint, tensorboard_callback]"
   ]
  },
  {
   "cell_type": "markdown",
   "metadata": {},
   "source": [
    "**Defining Optimizer, loss and metrics**"
   ]
  },
  {
   "cell_type": "code",
   "execution_count": 159,
   "metadata": {},
   "outputs": [],
   "source": [
    "model.compile(optimizer=\"adam\", loss='categorical_crossentropy', metrics=['accuracy'])"
   ]
  },
  {
   "cell_type": "markdown",
   "metadata": {},
   "source": [
    "**Training the Model**"
   ]
  },
  {
   "cell_type": "code",
   "execution_count": 160,
   "metadata": {},
   "outputs": [
    {
     "name": "stdout",
     "output_type": "stream",
     "text": [
      "Train on 60000 samples, validate on 10000 samples\n",
      "Epoch 1/10\n",
      "59648/60000 [============================>.] - ETA: 0s - loss: 0.1895 - accuracy: 0.9445\n",
      "Epoch 00001: val_accuracy improved from -inf to 0.97830, saving model to ./model_checkpoint/img_classification_model.hdf5\n",
      "60000/60000 [==============================] - 9s 152us/sample - loss: 0.1891 - accuracy: 0.9447 - val_loss: 0.0723 - val_accuracy: 0.9783\n",
      "Epoch 2/10\n",
      "59776/60000 [============================>.] - ETA: 0s - loss: 0.0564 - accuracy: 0.9832\n",
      "Epoch 00002: val_accuracy improved from 0.97830 to 0.97960, saving model to ./model_checkpoint/img_classification_model.hdf5\n",
      "60000/60000 [==============================] - 9s 149us/sample - loss: 0.0562 - accuracy: 0.9833 - val_loss: 0.0588 - val_accuracy: 0.9796\n",
      "Epoch 3/10\n",
      "59648/60000 [============================>.] - ETA: 0s - loss: 0.0319 - accuracy: 0.9905\n",
      "Epoch 00003: val_accuracy improved from 0.97960 to 0.98410, saving model to ./model_checkpoint/img_classification_model.hdf5\n",
      "60000/60000 [==============================] - 8s 128us/sample - loss: 0.0320 - accuracy: 0.9905 - val_loss: 0.0505 - val_accuracy: 0.9841\n",
      "Epoch 4/10\n",
      "59648/60000 [============================>.] - ETA: 0s - loss: 0.0213 - accuracy: 0.9937 ETA: 0s - l\n",
      "Epoch 00004: val_accuracy did not improve from 0.98410\n",
      "60000/60000 [==============================] - 8s 128us/sample - loss: 0.0214 - accuracy: 0.9937 - val_loss: 0.0631 - val_accuracy: 0.9808\n",
      "Epoch 5/10\n",
      "59776/60000 [============================>.] - ETA: 0s - loss: 0.0134 - accuracy: 0.9959\n",
      "Epoch 00005: val_accuracy did not improve from 0.98410\n",
      "60000/60000 [==============================] - 7s 123us/sample - loss: 0.0134 - accuracy: 0.9959 - val_loss: 0.0578 - val_accuracy: 0.9829\n",
      "Epoch 00005: early stopping\n"
     ]
    },
    {
     "data": {
      "text/plain": [
       "<tensorflow.python.keras.callbacks.History at 0x24493bc9688>"
      ]
     },
     "execution_count": 160,
     "metadata": {},
     "output_type": "execute_result"
    }
   ],
   "source": [
    "model.fit(x_train, y_train, validation_data=(x_test, y_test), epochs=10, batch_size=128, shuffle = True, callbacks=callbacks_list)"
   ]
  },
  {
   "cell_type": "code",
   "execution_count": 173,
   "metadata": {},
   "outputs": [],
   "source": [
    "#%load_ext tensorboard\n",
    "#%reload_ext tensorboard\n",
    "#logs_base_dir = \"./logs\"\n",
    "#os.makedirs(logs_base_dir, exist_ok=True)\n",
    "#%tensorboard --logdir {logs_base_dir}\"\"\""
   ]
  },
  {
   "cell_type": "markdown",
   "metadata": {},
   "source": [
    "**Plot of Model Accuracy and Model Loss**"
   ]
  },
  {
   "cell_type": "code",
   "execution_count": 163,
   "metadata": {},
   "outputs": [
    {
     "name": "stdout",
     "output_type": "stream",
     "text": [
      "dict_keys(['loss', 'accuracy', 'val_loss', 'val_accuracy'])\n",
      "ERROR! Session/line number was not unique in database. History logging moved to new session 326\n"
     ]
    },
    {
     "data": {
      "image/png": "[encoded data removed]",
      "text/plain": [
       "<Figure size 432x288 with 1 Axes>"
      ]
     },
     "metadata": {
      "needs_background": "light"
     },
     "output_type": "display_data"
    },
    {
     "data": {
      "image/png": "[encoded data removed]",
      "text/plain": [
       "<Figure size 432x288 with 1 Axes>"
      ]
     },
     "metadata": {
      "needs_background": "light"
     },
     "output_type": "display_data"
    }
   ],
   "source": [
    "import matplotlib.pyplot as plt\n",
    "\n",
    "history= model.history\n",
    "print(history.history.keys())\n",
    "# summarize history for accuracy\n",
    "plt.plot(history.history['accuracy'])\n",
    "plt.plot(history.history['val_accuracy'])\n",
    "plt.title('model accuracy')\n",
    "plt.ylabel('accuracy')\n",
    "plt.xlabel('epoch')\n",
    "plt.legend(['train', 'test'], loc='upper left')\n",
    "plt.show()\n",
    "# summarize history for loss\n",
    "plt.plot(history.history['loss'])\n",
    "plt.plot(history.history['val_loss'])\n",
    "plt.title('model loss')\n",
    "plt.ylabel('loss')\n",
    "plt.xlabel('epoch')\n",
    "plt.legend(['train', 'test'], loc='upper left')\n",
    "plt.show()"
   ]
  },
  {
   "cell_type": "code",
   "execution_count": 164,
   "metadata": {},
   "outputs": [
    {
     "name": "stdout",
     "output_type": "stream",
     "text": [
      "Test loss: 0.057799300031943134\n",
      "Test accuracy: 0.9829\n"
     ]
    }
   ],
   "source": [
    "score = model.evaluate(x_test, y_test, verbose=0)\n",
    "print('Test loss:', score[0])\n",
    "print('Test accuracy:', score[1])"
   ]
  },
  {
   "cell_type": "code",
   "execution_count": 167,
   "metadata": {},
   "outputs": [],
   "source": [
    "predictions = model.predict_classes([x_test])"
   ]
  },
  {
   "cell_type": "code",
   "execution_count": 168,
   "metadata": {},
   "outputs": [
    {
     "name": "stdout",
     "output_type": "stream",
     "text": [
      "7\n"
     ]
    }
   ],
   "source": [
    "print(predictions[0])"
   ]
  },
  {
   "cell_type": "markdown",
   "metadata": {},
   "source": [
    "**Conclusion**"
   ]
  },
  {
   "cell_type": "markdown",
   "metadata": {},
   "source": [
    "The CNN model can be further fine tuned to bring test accuracy close to 99% without overfitting the model."
   ]
  },
  {
   "cell_type": "code",
   "execution_count": null,
   "metadata": {},
   "outputs": [],
   "source": []
  }
 ],
 "metadata": {
  "kernelspec": {
   "display_name": "TensorFlow-GPU-2.1.0",
   "language": "python",
   "name": "tf-gpu"
  },
  "language_info": {
   "codemirror_mode": {
    "name": "ipython",
    "version": 3
   },
   "file_extension": ".py",
   "mimetype": "text/x-python",
   "name": "python",
   "nbconvert_exporter": "python",
   "pygments_lexer": "ipython3",
   "version": "3.7.9"
  }
 },
 "nbformat": 4,
 "nbformat_minor": 4
}
