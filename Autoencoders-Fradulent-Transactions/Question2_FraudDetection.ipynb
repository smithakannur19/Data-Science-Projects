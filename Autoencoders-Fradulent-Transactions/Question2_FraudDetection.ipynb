{
 "cells": [
  {
   "cell_type": "markdown",
   "metadata": {},
   "source": [
    "# Question 2:"
   ]
  },
  {
   "cell_type": "markdown",
   "metadata": {},
   "source": [
    "**Company XYZ is a major credit card company. They have found that their existing fraud detection system is slow to recognize new \n",
    "patterns of fraud and is costing them lots of money. They have contracted Deloitte to implement an algorithm that returns all \n",
    "transactions that seem unusual and are worth being investigated further. They have provided two tables: Table “cc_info” which\n",
    "contains general information about the credit card and its holder, and “transactions” which contains information about each \n",
    "transaction that happened between August 1st and October 30th for credit cards in the cc_info table. Your task is to design and\n",
    "implement a neural-network based solution that will return all transactions that seem to be fraudulent and require further \n",
    "investigation.**"
   ]
  },
  {
   "cell_type": "markdown",
   "metadata": {},
   "source": [
    "# Background"
   ]
  },
  {
   "cell_type": "markdown",
   "metadata": {},
   "source": [
    "Credit Card Fraud has been an ever growing issue impacting the financial losses, trust and credibility.\n",
    "\n",
    "AI based credit card fraud detection play a vital role in flagging a transaction as fradulent or non-fradulent. \n",
    "\n",
    "**AI based credit card fraud vs Rule-based system :**\n",
    "\n",
    "AI based credit card fraud detection helps in detecting fraud automatically resulting in real-time streaming.\n",
    "Rule-Based System will require enormous amount of time in making decisions in determining schemes.\n",
    "\n",
    "AI based credit card fraud detection takes less time compared to rule-based system for verification methods by identifying hidden correlations in data. Rule-based system needs multiple verification methods which consumes lot of time leading inconvenience for the user."
   ]
  },
  {
   "cell_type": "markdown",
   "metadata": {},
   "source": [
    "# Dataset Overview"
   ]
  },
  {
   "cell_type": "markdown",
   "metadata": {},
   "source": [
    "There are two tables given.\n",
    "1. cc_info.csv containing general information about the credit card and its holder. \n",
    "General information includes - <br/>\n",
    "    a. credit card number <br/>\n",
    "    b. city <br/>\n",
    "    c. state <br/>\n",
    "    d. zip code <br/>\n",
    "    e. credit card limit <br/> <br/>\n",
    "    \n",
    "2. transactions.csv containing information about each transaction that happened between August 1st and October 30th for credit cards in the cc_info table. \n",
    "Transaction information includes - <br/>\n",
    "    a. credit card number <br/>\n",
    "    b. date <br/>\n",
    "    c. transactions in dollars <br/>\n",
    "    d. Longitude <br/>\n",
    "    e. Latitude <br/> <br/>\n",
    "\n",
    "The dataset do not contain explicit labels as fradulent or non-fradulent transactions. "
   ]
  },
  {
   "cell_type": "markdown",
   "metadata": {},
   "source": [
    "# Proposed Solution"
   ]
  },
  {
   "cell_type": "markdown",
   "metadata": {},
   "source": [
    "**Supervised Learning**<br/>\n",
    "If the dataset had come with labels stating whether a transaction is fradulent or non-fradulent, then the problem could be addressed with the supervised machine learning algorithms / deep learning techniques like - <br/>\n",
    "1. Random Forest Classifier, SVM Classifier, Logistic Regression, KNN Classifier etc\n",
    "2. Boosting Algorithms - AdaBoost, Xgboost, GBDT etc\n",
    "3. Artificial Neural Network\n",
    "\n",
    "In this case, the dataset can be heavily imbalanced due to number of frauds is being smaller compared to normal transactions. The dataset has to be balanced using techniques like undersampling, oversampling, SMOTE before training the model.\n",
    "\n",
    "**Unsupervised Learning**<br/>\n",
    "Labelling millions of transactions and detecting the features to characterize frauds or normal is very difficult task and also since the dataset do not contain labels, the problem is to be approached using unsupervised learning methods.\n",
    "1. Since manual labelling of the data is time consuming and expensive, we can use clustering technique. After getting the clusters, we can pick few points from each clusters and label each cluster as unique class by reviewing the points picked.\n",
    "2. Unsupervised algorithms like Local Outlier Factor, Isolation Forest can be used in identifying fradulent and normal transactions.\n",
    "3. Identifying fradulent and non-fradulent transactions using Auto-encoders - Unsupervised based neural network architecture. "
   ]
  },
  {
   "cell_type": "markdown",
   "metadata": {},
   "source": [
    "<h3>In this notebook, the problem of identifying fradulent and non-fradulent transactions with Auto-Encoders has been demonstrated.<h3>"
   ]
  },
  {
   "cell_type": "markdown",
   "metadata": {},
   "source": [
    "# Importing Libraries"
   ]
  },
  {
   "cell_type": "code",
   "execution_count": 2,
   "metadata": {},
   "outputs": [],
   "source": [
    "# importing libraries\n",
    "import math\n",
    "import pandas as pd\n",
    "import numpy as np\n",
    "from tqdm import tqdm\n",
    "from geopy.geocoders import Nominatim\n",
    "import datetime\n",
    "import os\n",
    "\n",
    "# plotting libraries\n",
    "import matplotlib.pyplot as plt\n",
    "import seaborn as sns\n",
    "\n",
    "from sklearn.model_selection import train_test_split\n",
    "from sklearn.preprocessing import OneHotEncoder\n",
    "from sklearn.preprocessing import MinMaxScaler\n",
    "import tensorflow as tf\n",
    "from tensorflow.keras.callbacks import ModelCheckpoint, TensorBoard, Callback, EarlyStopping"
   ]
  },
  {
   "cell_type": "markdown",
   "metadata": {},
   "source": [
    "# EDA"
   ]
  },
  {
   "cell_type": "markdown",
   "metadata": {},
   "source": [
    "**Reading the tables - cc_info.csv & transaction.csv**"
   ]
  },
  {
   "cell_type": "code",
   "execution_count": 3,
   "metadata": {},
   "outputs": [],
   "source": [
    "# reading the cc_info.csv file\n",
    "cc_info = pd.read_csv(\"cc_info.csv\")\n",
    "# reading transactions.csv file\n",
    "transactions = pd.read_csv(\"transactions.csv\")"
   ]
  },
  {
   "cell_type": "markdown",
   "metadata": {},
   "source": [
    "**Visualizing cc_info table**"
   ]
  },
  {
   "cell_type": "code",
   "execution_count": 4,
   "metadata": {},
   "outputs": [
    {
     "data": {
      "text/html": [
       "<div>\n",
       "<style scoped>\n",
       "    .dataframe tbody tr th:only-of-type {\n",
       "        vertical-align: middle;\n",
       "    }\n",
       "\n",
       "    .dataframe tbody tr th {\n",
       "        vertical-align: top;\n",
       "    }\n",
       "\n",
       "    .dataframe thead th {\n",
       "        text-align: right;\n",
       "    }\n",
       "</style>\n",
       "<table border=\"1\" class=\"dataframe\">\n",
       "  <thead>\n",
       "    <tr style=\"text-align: right;\">\n",
       "      <th></th>\n",
       "      <th>credit_card</th>\n",
       "      <th>city</th>\n",
       "      <th>state</th>\n",
       "      <th>zipcode</th>\n",
       "      <th>credit_card_limit</th>\n",
       "    </tr>\n",
       "  </thead>\n",
       "  <tbody>\n",
       "    <tr>\n",
       "      <th>0</th>\n",
       "      <td>1280981422329509</td>\n",
       "      <td>Dallas</td>\n",
       "      <td>PA</td>\n",
       "      <td>18612</td>\n",
       "      <td>6000</td>\n",
       "    </tr>\n",
       "    <tr>\n",
       "      <th>1</th>\n",
       "      <td>9737219864179988</td>\n",
       "      <td>Houston</td>\n",
       "      <td>PA</td>\n",
       "      <td>15342</td>\n",
       "      <td>16000</td>\n",
       "    </tr>\n",
       "    <tr>\n",
       "      <th>2</th>\n",
       "      <td>4749889059323202</td>\n",
       "      <td>Auburn</td>\n",
       "      <td>MA</td>\n",
       "      <td>1501</td>\n",
       "      <td>14000</td>\n",
       "    </tr>\n",
       "    <tr>\n",
       "      <th>3</th>\n",
       "      <td>9591503562024072</td>\n",
       "      <td>Orlando</td>\n",
       "      <td>WV</td>\n",
       "      <td>26412</td>\n",
       "      <td>18000</td>\n",
       "    </tr>\n",
       "    <tr>\n",
       "      <th>4</th>\n",
       "      <td>2095640259001271</td>\n",
       "      <td>New York</td>\n",
       "      <td>NY</td>\n",
       "      <td>10001</td>\n",
       "      <td>20000</td>\n",
       "    </tr>\n",
       "  </tbody>\n",
       "</table>\n",
       "</div>"
      ],
      "text/plain": [
       "        credit_card      city state  zipcode  credit_card_limit\n",
       "0  1280981422329509    Dallas    PA    18612               6000\n",
       "1  9737219864179988   Houston    PA    15342              16000\n",
       "2  4749889059323202    Auburn    MA     1501              14000\n",
       "3  9591503562024072   Orlando    WV    26412              18000\n",
       "4  2095640259001271  New York    NY    10001              20000"
      ]
     },
     "execution_count": 4,
     "metadata": {},
     "output_type": "execute_result"
    }
   ],
   "source": [
    "# displaying first 5 rows of the cc_info data \n",
    "cc_info.head()"
   ]
  },
  {
   "cell_type": "markdown",
   "metadata": {},
   "source": [
    "**Visualizing transactions table**"
   ]
  },
  {
   "cell_type": "code",
   "execution_count": 5,
   "metadata": {},
   "outputs": [
    {
     "data": {
      "text/html": [
       "<div>\n",
       "<style scoped>\n",
       "    .dataframe tbody tr th:only-of-type {\n",
       "        vertical-align: middle;\n",
       "    }\n",
       "\n",
       "    .dataframe tbody tr th {\n",
       "        vertical-align: top;\n",
       "    }\n",
       "\n",
       "    .dataframe thead th {\n",
       "        text-align: right;\n",
       "    }\n",
       "</style>\n",
       "<table border=\"1\" class=\"dataframe\">\n",
       "  <thead>\n",
       "    <tr style=\"text-align: right;\">\n",
       "      <th></th>\n",
       "      <th>credit_card</th>\n",
       "      <th>date</th>\n",
       "      <th>transaction_dollar_amount</th>\n",
       "      <th>Long</th>\n",
       "      <th>Lat</th>\n",
       "    </tr>\n",
       "  </thead>\n",
       "  <tbody>\n",
       "    <tr>\n",
       "      <th>0</th>\n",
       "      <td>1003715054175576</td>\n",
       "      <td>2015-09-11 00:32:40</td>\n",
       "      <td>43.78</td>\n",
       "      <td>-80.174132</td>\n",
       "      <td>40.267370</td>\n",
       "    </tr>\n",
       "    <tr>\n",
       "      <th>1</th>\n",
       "      <td>1003715054175576</td>\n",
       "      <td>2015-10-24 22:23:08</td>\n",
       "      <td>103.15</td>\n",
       "      <td>-80.194240</td>\n",
       "      <td>40.180114</td>\n",
       "    </tr>\n",
       "    <tr>\n",
       "      <th>2</th>\n",
       "      <td>1003715054175576</td>\n",
       "      <td>2015-10-26 18:19:36</td>\n",
       "      <td>48.55</td>\n",
       "      <td>-80.211033</td>\n",
       "      <td>40.313004</td>\n",
       "    </tr>\n",
       "    <tr>\n",
       "      <th>3</th>\n",
       "      <td>1003715054175576</td>\n",
       "      <td>2015-10-22 19:41:10</td>\n",
       "      <td>136.18</td>\n",
       "      <td>-80.174138</td>\n",
       "      <td>40.290895</td>\n",
       "    </tr>\n",
       "    <tr>\n",
       "      <th>4</th>\n",
       "      <td>1003715054175576</td>\n",
       "      <td>2015-10-26 20:08:22</td>\n",
       "      <td>71.82</td>\n",
       "      <td>-80.238720</td>\n",
       "      <td>40.166719</td>\n",
       "    </tr>\n",
       "  </tbody>\n",
       "</table>\n",
       "</div>"
      ],
      "text/plain": [
       "        credit_card                 date  transaction_dollar_amount  \\\n",
       "0  1003715054175576  2015-09-11 00:32:40                      43.78   \n",
       "1  1003715054175576  2015-10-24 22:23:08                     103.15   \n",
       "2  1003715054175576  2015-10-26 18:19:36                      48.55   \n",
       "3  1003715054175576  2015-10-22 19:41:10                     136.18   \n",
       "4  1003715054175576  2015-10-26 20:08:22                      71.82   \n",
       "\n",
       "        Long        Lat  \n",
       "0 -80.174132  40.267370  \n",
       "1 -80.194240  40.180114  \n",
       "2 -80.211033  40.313004  \n",
       "3 -80.174138  40.290895  \n",
       "4 -80.238720  40.166719  "
      ]
     },
     "execution_count": 5,
     "metadata": {},
     "output_type": "execute_result"
    }
   ],
   "source": [
    "# displaying first 5 rows of the transactions data \n",
    "transactions.head()"
   ]
  },
  {
   "cell_type": "markdown",
   "metadata": {},
   "source": [
    "**Combining cc_info and transactions table based on credit card details**"
   ]
  },
  {
   "cell_type": "code",
   "execution_count": 6,
   "metadata": {},
   "outputs": [],
   "source": [
    "# combining the two files on the column credit_card\n",
    "data = pd.merge(cc_info, transactions, on='credit_card')"
   ]
  },
  {
   "cell_type": "markdown",
   "metadata": {},
   "source": [
    "**Visualizing combined data**"
   ]
  },
  {
   "cell_type": "code",
   "execution_count": 6,
   "metadata": {},
   "outputs": [
    {
     "data": {
      "text/html": [
       "<div>\n",
       "<style scoped>\n",
       "    .dataframe tbody tr th:only-of-type {\n",
       "        vertical-align: middle;\n",
       "    }\n",
       "\n",
       "    .dataframe tbody tr th {\n",
       "        vertical-align: top;\n",
       "    }\n",
       "\n",
       "    .dataframe thead th {\n",
       "        text-align: right;\n",
       "    }\n",
       "</style>\n",
       "<table border=\"1\" class=\"dataframe\">\n",
       "  <thead>\n",
       "    <tr style=\"text-align: right;\">\n",
       "      <th></th>\n",
       "      <th>credit_card</th>\n",
       "      <th>city</th>\n",
       "      <th>state</th>\n",
       "      <th>zipcode</th>\n",
       "      <th>credit_card_limit</th>\n",
       "      <th>date</th>\n",
       "      <th>transaction_dollar_amount</th>\n",
       "      <th>Long</th>\n",
       "      <th>Lat</th>\n",
       "    </tr>\n",
       "  </thead>\n",
       "  <tbody>\n",
       "    <tr>\n",
       "      <th>0</th>\n",
       "      <td>1280981422329509</td>\n",
       "      <td>Dallas</td>\n",
       "      <td>PA</td>\n",
       "      <td>18612</td>\n",
       "      <td>6000</td>\n",
       "      <td>2015-08-05 00:59:19</td>\n",
       "      <td>11.94</td>\n",
       "      <td>-75.964527</td>\n",
       "      <td>41.353578</td>\n",
       "    </tr>\n",
       "    <tr>\n",
       "      <th>1</th>\n",
       "      <td>1280981422329509</td>\n",
       "      <td>Dallas</td>\n",
       "      <td>PA</td>\n",
       "      <td>18612</td>\n",
       "      <td>6000</td>\n",
       "      <td>2015-10-29 18:23:04</td>\n",
       "      <td>5.76</td>\n",
       "      <td>-76.019703</td>\n",
       "      <td>41.311467</td>\n",
       "    </tr>\n",
       "    <tr>\n",
       "      <th>2</th>\n",
       "      <td>1280981422329509</td>\n",
       "      <td>Dallas</td>\n",
       "      <td>PA</td>\n",
       "      <td>18612</td>\n",
       "      <td>6000</td>\n",
       "      <td>2015-10-25 17:50:48</td>\n",
       "      <td>25.84</td>\n",
       "      <td>-76.043031</td>\n",
       "      <td>41.291053</td>\n",
       "    </tr>\n",
       "    <tr>\n",
       "      <th>3</th>\n",
       "      <td>1280981422329509</td>\n",
       "      <td>Dallas</td>\n",
       "      <td>PA</td>\n",
       "      <td>18612</td>\n",
       "      <td>6000</td>\n",
       "      <td>2015-09-05 17:39:43</td>\n",
       "      <td>68.89</td>\n",
       "      <td>-75.944299</td>\n",
       "      <td>41.327282</td>\n",
       "    </tr>\n",
       "    <tr>\n",
       "      <th>4</th>\n",
       "      <td>1280981422329509</td>\n",
       "      <td>Dallas</td>\n",
       "      <td>PA</td>\n",
       "      <td>18612</td>\n",
       "      <td>6000</td>\n",
       "      <td>2015-09-04 14:12:59</td>\n",
       "      <td>27.01</td>\n",
       "      <td>-75.997259</td>\n",
       "      <td>41.352099</td>\n",
       "    </tr>\n",
       "  </tbody>\n",
       "</table>\n",
       "</div>"
      ],
      "text/plain": [
       "        credit_card    city state  zipcode  credit_card_limit  \\\n",
       "0  1280981422329509  Dallas    PA    18612               6000   \n",
       "1  1280981422329509  Dallas    PA    18612               6000   \n",
       "2  1280981422329509  Dallas    PA    18612               6000   \n",
       "3  1280981422329509  Dallas    PA    18612               6000   \n",
       "4  1280981422329509  Dallas    PA    18612               6000   \n",
       "\n",
       "                  date  transaction_dollar_amount       Long        Lat  \n",
       "0  2015-08-05 00:59:19                      11.94 -75.964527  41.353578  \n",
       "1  2015-10-29 18:23:04                       5.76 -76.019703  41.311467  \n",
       "2  2015-10-25 17:50:48                      25.84 -76.043031  41.291053  \n",
       "3  2015-09-05 17:39:43                      68.89 -75.944299  41.327282  \n",
       "4  2015-09-04 14:12:59                      27.01 -75.997259  41.352099  "
      ]
     },
     "execution_count": 6,
     "metadata": {},
     "output_type": "execute_result"
    }
   ],
   "source": [
    "# displaying first 5 rows of the combined data\n",
    "data.head()"
   ]
  },
  {
   "cell_type": "markdown",
   "metadata": {},
   "source": [
    "**Size of the Dataset**"
   ]
  },
  {
   "cell_type": "code",
   "execution_count": 7,
   "metadata": {},
   "outputs": [
    {
     "name": "stdout",
     "output_type": "stream",
     "text": [
      "Total Number of Transactions is 294588\n"
     ]
    }
   ],
   "source": [
    "print(\"Total Number of Transactions is\", data.shape[0])"
   ]
  },
  {
   "cell_type": "markdown",
   "metadata": {},
   "source": [
    "**Total Number of Unique Card Holders in the given Dataset**"
   ]
  },
  {
   "cell_type": "code",
   "execution_count": 8,
   "metadata": {},
   "outputs": [
    {
     "name": "stdout",
     "output_type": "stream",
     "text": [
      "Total Number of Credit Card Holders is 984\n"
     ]
    }
   ],
   "source": [
    "print(\"Total Number of Credit Card Holders is\", data[\"credit_card\"].unique().shape[0])"
   ]
  },
  {
   "cell_type": "markdown",
   "metadata": {},
   "source": [
    "**Generate descriptive statistics**"
   ]
  },
  {
   "cell_type": "code",
   "execution_count": 9,
   "metadata": {},
   "outputs": [
    {
     "data": {
      "text/html": [
       "<div>\n",
       "<style scoped>\n",
       "    .dataframe tbody tr th:only-of-type {\n",
       "        vertical-align: middle;\n",
       "    }\n",
       "\n",
       "    .dataframe tbody tr th {\n",
       "        vertical-align: top;\n",
       "    }\n",
       "\n",
       "    .dataframe thead th {\n",
       "        text-align: right;\n",
       "    }\n",
       "</style>\n",
       "<table border=\"1\" class=\"dataframe\">\n",
       "  <thead>\n",
       "    <tr style=\"text-align: right;\">\n",
       "      <th></th>\n",
       "      <th>credit_card_limit</th>\n",
       "      <th>transaction_dollar_amount</th>\n",
       "    </tr>\n",
       "  </thead>\n",
       "  <tbody>\n",
       "    <tr>\n",
       "      <th>count</th>\n",
       "      <td>294588.000000</td>\n",
       "      <td>294588.000000</td>\n",
       "    </tr>\n",
       "    <tr>\n",
       "      <th>mean</th>\n",
       "      <td>15502.053716</td>\n",
       "      <td>86.008036</td>\n",
       "    </tr>\n",
       "    <tr>\n",
       "      <th>std</th>\n",
       "      <td>7956.291556</td>\n",
       "      <td>124.655954</td>\n",
       "    </tr>\n",
       "    <tr>\n",
       "      <th>min</th>\n",
       "      <td>2000.000000</td>\n",
       "      <td>0.010000</td>\n",
       "    </tr>\n",
       "    <tr>\n",
       "      <th>25%</th>\n",
       "      <td>10000.000000</td>\n",
       "      <td>29.970000</td>\n",
       "    </tr>\n",
       "    <tr>\n",
       "      <th>50%</th>\n",
       "      <td>15000.000000</td>\n",
       "      <td>58.470000</td>\n",
       "    </tr>\n",
       "    <tr>\n",
       "      <th>75%</th>\n",
       "      <td>20000.000000</td>\n",
       "      <td>100.400000</td>\n",
       "    </tr>\n",
       "    <tr>\n",
       "      <th>max</th>\n",
       "      <td>55000.000000</td>\n",
       "      <td>999.970000</td>\n",
       "    </tr>\n",
       "  </tbody>\n",
       "</table>\n",
       "</div>"
      ],
      "text/plain": [
       "       credit_card_limit  transaction_dollar_amount\n",
       "count      294588.000000              294588.000000\n",
       "mean        15502.053716                  86.008036\n",
       "std          7956.291556                 124.655954\n",
       "min          2000.000000                   0.010000\n",
       "25%         10000.000000                  29.970000\n",
       "50%         15000.000000                  58.470000\n",
       "75%         20000.000000                 100.400000\n",
       "max         55000.000000                 999.970000"
      ]
     },
     "execution_count": 9,
     "metadata": {},
     "output_type": "execute_result"
    }
   ],
   "source": [
    "data[[\"credit_card_limit\",\"transaction_dollar_amount\"]].describe()"
   ]
  },
  {
   "cell_type": "markdown",
   "metadata": {},
   "source": [
    "**Observations**\n",
    "1. There are totally 294588 records in our data.\n",
    "2. The cental tendency of the data in \"transaction_dollar_amount\" is smaller compared to \"credit_card_limit\".\n",
    "3. Standard deviation of the \"credit_card_limit\" is higher compared to \"transaction_dollar_amount\" and hence feature \"credit_card_limit\" has greater spread of the data, exhibiting more variation compared to \"transaction_dollar_amount\".\n",
    "4. The minimum credit card limit in the given data is 2000 and maximum credit card limit is 55000 (in dollars).\n",
    "5. The minimum transaction amount is 0 and maximum is 999.97 (in dollars).\n",
    "6. For feature \"credit_card_limit\", <br/>\n",
    "    a. 25% of the credit card limit is below 10000 dollars (minimum is 2000 dollars and maximum is 10000 dollars). <br/>\n",
    "    b. 50% of the credit card limit is below 15000 dollars (minimum is 2000 dollars and maximum is 15000 dollars). <br/>\n",
    "    c. 75% of the credit card limit is below 20000 dollars (minimum is 2000 dollars and maximum is 20000 dollars). <br/>\n",
    "7. For feature \"transaction_dollar_amount\", <br/>\n",
    "    a. 25% of the transaction is below 29.97 dollars (minimum is 0.01 dollars and maximum is 29.97 dollars). <br/>\n",
    "    b. 50% of the transaction is below 58.47 dollars (minimum is 0.01 dollars and maximum is 58.47 dollars). <br/>\n",
    "    c. 75% of the transaction is below 100 dollars (minimum is 0.01 dollars and maximum is 100 dollars). <br/>\n"
   ]
  },
  {
   "cell_type": "markdown",
   "metadata": {},
   "source": [
    "**Concise Summary of the Dataframe**"
   ]
  },
  {
   "cell_type": "code",
   "execution_count": 10,
   "metadata": {},
   "outputs": [
    {
     "name": "stdout",
     "output_type": "stream",
     "text": [
      "<class 'pandas.core.frame.DataFrame'>\n",
      "Int64Index: 294588 entries, 0 to 294587\n",
      "Data columns (total 9 columns):\n",
      " #   Column                     Non-Null Count   Dtype  \n",
      "---  ------                     --------------   -----  \n",
      " 0   credit_card                294588 non-null  int64  \n",
      " 1   city                       294588 non-null  object \n",
      " 2   state                      294588 non-null  object \n",
      " 3   zipcode                    294588 non-null  int64  \n",
      " 4   credit_card_limit          294588 non-null  int64  \n",
      " 5   date                       294588 non-null  object \n",
      " 6   transaction_dollar_amount  294588 non-null  float64\n",
      " 7   Long                       294588 non-null  float64\n",
      " 8   Lat                        294588 non-null  float64\n",
      "dtypes: float64(3), int64(3), object(3)\n",
      "memory usage: 22.5+ MB\n"
     ]
    }
   ],
   "source": [
    "data.info()"
   ]
  },
  {
   "cell_type": "markdown",
   "metadata": {},
   "source": [
    "**Observations**\n",
    "1. All the features in our dataset do not hold missing values.\n",
    "2. Data type of date feature is of type object. We need to convert the data type of feature date to datetime."
   ]
  },
  {
   "cell_type": "markdown",
   "metadata": {},
   "source": [
    "**Conerting data type of feature date to datetime from object**"
   ]
  },
  {
   "cell_type": "code",
   "execution_count": 11,
   "metadata": {},
   "outputs": [],
   "source": [
    "data['date'] = pd.to_datetime(data['date'])"
   ]
  },
  {
   "cell_type": "code",
   "execution_count": 12,
   "metadata": {},
   "outputs": [
    {
     "name": "stdout",
     "output_type": "stream",
     "text": [
      "<class 'pandas.core.frame.DataFrame'>\n",
      "Int64Index: 294588 entries, 0 to 294587\n",
      "Data columns (total 9 columns):\n",
      " #   Column                     Non-Null Count   Dtype         \n",
      "---  ------                     --------------   -----         \n",
      " 0   credit_card                294588 non-null  int64         \n",
      " 1   city                       294588 non-null  object        \n",
      " 2   state                      294588 non-null  object        \n",
      " 3   zipcode                    294588 non-null  int64         \n",
      " 4   credit_card_limit          294588 non-null  int64         \n",
      " 5   date                       294588 non-null  datetime64[ns]\n",
      " 6   transaction_dollar_amount  294588 non-null  float64       \n",
      " 7   Long                       294588 non-null  float64       \n",
      " 8   Lat                        294588 non-null  float64       \n",
      "dtypes: datetime64[ns](1), float64(3), int64(3), object(2)\n",
      "memory usage: 22.5+ MB\n"
     ]
    }
   ],
   "source": [
    "data.info()"
   ]
  },
  {
   "cell_type": "markdown",
   "metadata": {},
   "source": [
    "**Observations**\n",
    "1. Data type of feature date is now of type datetime."
   ]
  },
  {
   "cell_type": "markdown",
   "metadata": {},
   "source": [
    "**Credit card transactions - Time density plot**"
   ]
  },
  {
   "cell_type": "code",
   "execution_count": 13,
   "metadata": {},
   "outputs": [
    {
     "data": {
      "image/png": "[encoded data removed]",
      "text/plain": [
       "<Figure size 1440x360 with 1 Axes>"
      ]
     },
     "metadata": {
      "needs_background": "light"
     },
     "output_type": "display_data"
    }
   ],
   "source": [
    "# time distribution\n",
    "plt.figure(figsize = (20,5))\n",
    "sns.kdeplot(data['date'], x=\"date\", bw_adjust=.10)\n",
    "plt.title(\"Credit card transactions - Time density plot\")\n",
    "plt.show()"
   ]
  },
  {
   "cell_type": "markdown",
   "metadata": {},
   "source": [
    "**Observation**\n",
    "1. Between 1st September 2015 and 1st October 2015, there has been highest concentration of transactions."
   ]
  },
  {
   "cell_type": "markdown",
   "metadata": {},
   "source": [
    "**Credit card transactions - Transaction amount density plot**"
   ]
  },
  {
   "cell_type": "code",
   "execution_count": 14,
   "metadata": {},
   "outputs": [
    {
     "data": {
      "image/png": "[encoded data removed]",
      "text/plain": [
       "<Figure size 720x360 with 1 Axes>"
      ]
     },
     "metadata": {
      "needs_background": "light"
     },
     "output_type": "display_data"
    }
   ],
   "source": [
    "# amount distribution\n",
    "plt.figure(figsize = (10,5))\n",
    "sns.kdeplot(data['transaction_dollar_amount'], x=\"transaction_amount($)\", bw_adjust=.10)\n",
    "plt.title(\"Credit card transactions - Transaction amount density plot\")\n",
    "plt.show()"
   ]
  },
  {
   "cell_type": "markdown",
   "metadata": {},
   "source": [
    "**Observation**\n",
    "1. There is highest concentraction of transaction amount between 0 to 300 dollars."
   ]
  },
  {
   "cell_type": "markdown",
   "metadata": {},
   "source": [
    "**Maximum & Minimum transactions made by credit cards**"
   ]
  },
  {
   "cell_type": "code",
   "execution_count": 15,
   "metadata": {},
   "outputs": [
    {
     "data": {
      "image/png": "[encoded data removed]",
      "text/plain": [
       "<Figure size 1440x360 with 1 Axes>"
      ]
     },
     "metadata": {
      "needs_background": "light"
     },
     "output_type": "display_data"
    },
    {
     "data": {
      "image/png": "[encoded data removed]",
      "text/plain": [
       "<Figure size 1440x360 with 1 Axes>"
      ]
     },
     "metadata": {
      "needs_background": "light"
     },
     "output_type": "display_data"
    }
   ],
   "source": [
    "# creating dictionary that holds credit card number as key and the frequency of transactions as value\n",
    "unique_labels, labels_counts = np.unique(data[\"credit_card\"].values, return_counts=True)\n",
    "label_stats = dict(zip(unique_labels, labels_counts))\n",
    "sorted_label_stats = dict(sorted(label_stats.items(), key=lambda item: item[1]))\n",
    "\n",
    "# considering least 8 credit cards whose frequency is minimum\n",
    "least_8_cards = {str(k): sorted_label_stats[k] for k in list(sorted_label_stats)[:8]}\n",
    "#print(\"Least 10 credit cards who have made minimum transactions\",least_10_cards)\n",
    "\n",
    "# plotting\n",
    "fig = plt.figure(figsize = (20, 5))\n",
    "plt.bar(list(least_8_cards.keys()), list(least_8_cards.values()), color ='green')\n",
    " \n",
    "plt.xlabel(\"Credit Cards\")\n",
    "plt.ylabel(\"Frequency of Transaction\")\n",
    "plt.title(\"Least 8 Credit Cards who have made minimum transactions\")\n",
    "plt.show()\n",
    "\n",
    "# considering top 8 credit cards whose frequency is maximum\n",
    "top_10_cards = {str(k): sorted_label_stats[k] for k in list(sorted_label_stats)[-8:]}\n",
    "#print(\"Top 10 credit cards who have made maximum transactions\",top_10_cards)\n",
    "\n",
    "# plotting\n",
    "fig = plt.figure(figsize = (20, 5))\n",
    "plt.bar(list(top_10_cards.keys()), list(top_10_cards.values()), color ='blue')\n",
    " \n",
    "plt.xlabel(\"Credit Cards\")\n",
    "plt.ylabel(\"Frequency of Transaction\")\n",
    "plt.title(\"Top 8 Credit Cards who have made maximum transactions\")\n",
    "plt.show()"
   ]
  },
  {
   "cell_type": "markdown",
   "metadata": {},
   "source": [
    "**Observations**\n",
    "1. Refering to figure 1 - 3636, 4183, 7036(last 4 digits of credit card number) and so on & so forth has the least number of transactions.\n",
    "2. Refering to figure 2 - 2779, 6726, 3448(last 4 digits of credit card number) and so on & so forth has the maximum number of transactions."
   ]
  },
  {
   "cell_type": "markdown",
   "metadata": {},
   "source": [
    "**Cities holding highest and lowest credit card holders**"
   ]
  },
  {
   "cell_type": "code",
   "execution_count": 7,
   "metadata": {},
   "outputs": [
    {
     "data": {
      "image/png": "[encoded data removed]",
      "text/plain": [
       "<Figure size 1440x360 with 1 Axes>"
      ]
     },
     "metadata": {
      "needs_background": "light"
     },
     "output_type": "display_data"
    },
    {
     "data": {
      "image/png": "[encoded data removed]",
      "text/plain": [
       "<Figure size 1440x360 with 1 Axes>"
      ]
     },
     "metadata": {
      "needs_background": "light"
     },
     "output_type": "display_data"
    }
   ],
   "source": [
    "temp_df = data.groupby(['city']).agg({\"credit_card\":['count']}).reset_index()\n",
    "temp_df.columns = [\"city\", \"credit_card_count\"]\n",
    "city_list = list(temp_df[\"city\"])\n",
    "count_list = list(temp_df[\"credit_card_count\"])\n",
    "city_credit_count = dict(zip(city_list, count_list))\n",
    "sorted_city_credit_count = dict(sorted(city_credit_count.items(), key=lambda item: item[1]))\n",
    "\n",
    "# considering least 10 city having minimum credit card holders\n",
    "least_10_city = {k: sorted_city_credit_count[k] for k in list(sorted_city_credit_count)[:10]}\n",
    "\n",
    "# plotting\n",
    "fig = plt.figure(figsize = (20, 5))\n",
    "plt.bar(list(least_10_city.keys()), list(least_10_city.values()), color ='green')\n",
    " \n",
    "plt.xlabel(\"City\")\n",
    "plt.ylabel(\"Frequency of Credit Card Holders\")\n",
    "plt.title(\"Least 10 Cities that hold Credit Card Holders\")\n",
    "plt.show()\n",
    "\n",
    "# considering Top 10 cities having maximum credit card holders\n",
    "top_10_city = {k: sorted_city_credit_count[k] for k in list(sorted_city_credit_count)[-10:]}\n",
    "\n",
    "# plotting\n",
    "fig = plt.figure(figsize = (20, 5))\n",
    "plt.bar(list(top_10_city.keys()), list(top_10_city.values()), color ='blue')\n",
    " \n",
    "plt.xlabel(\"City\")\n",
    "plt.ylabel(\"Frequency of Credit Card Holders\")\n",
    "plt.title(\"Top 10 Cities that hold Credit Card Holders\")\n",
    "plt.show()"
   ]
  },
  {
   "cell_type": "markdown",
   "metadata": {},
   "source": [
    "**Observations**\n",
    "1. Refering to figure 1 - cities Bristol, Roanoke, Baltimore, Vallejo and so on - so forth are the cities which has least number of credit card holders.\n",
    "2. Refering to figure 2 - cities washington has the highest credit card holders, followed by Houston and then new york and so on."
   ]
  },
  {
   "cell_type": "markdown",
   "metadata": {},
   "source": [
    "**Cities holding highest and lowest transactions made**"
   ]
  },
  {
   "cell_type": "code",
   "execution_count": 16,
   "metadata": {},
   "outputs": [
    {
     "name": "stdout",
     "output_type": "stream",
     "text": [
      "ERROR! Session/line number was not unique in database. History logging moved to new session 294\n"
     ]
    },
    {
     "data": {
      "image/png": "[encoded data removed]",
      "text/plain": [
       "<Figure size 1440x360 with 1 Axes>"
      ]
     },
     "metadata": {
      "needs_background": "light"
     },
     "output_type": "display_data"
    },
    {
     "data": {
      "image/png": "[encoded data removed]",
      "text/plain": [
       "<Figure size 1440x360 with 1 Axes>"
      ]
     },
     "metadata": {
      "needs_background": "light"
     },
     "output_type": "display_data"
    }
   ],
   "source": [
    "city_counts = dict(data[\"city\"].value_counts())\n",
    "sorted_city_counts = dict(sorted(city_counts.items(), key=lambda item: item[1]))\n",
    "# considering least 10 city having minimum transactions\n",
    "least_10_city = {k: sorted_city_counts[k] for k in list(sorted_city_counts)[:10]}\n",
    "\n",
    "# plotting\n",
    "fig = plt.figure(figsize = (20, 5))\n",
    "plt.bar(list(least_10_city.keys()), list(least_10_city.values()), color ='green')\n",
    " \n",
    "plt.xlabel(\"City\")\n",
    "plt.ylabel(\"Frequency of Transactions\")\n",
    "plt.title(\"Least 10 Cities that hold minimum transactions\")\n",
    "plt.show()\n",
    "\n",
    "# considering Top 10 cities having maximum credit card holders\n",
    "top_10_city = {k: sorted_city_counts[k] for k in list(sorted_city_counts)[-10:]}\n",
    "\n",
    "# plotting\n",
    "fig = plt.figure(figsize = (20, 5))\n",
    "plt.bar(list(top_10_city.keys()), list(top_10_city.values()), color ='blue')\n",
    " \n",
    "plt.xlabel(\"City\")\n",
    "plt.ylabel(\"Frequency of Transactions\")\n",
    "plt.title(\"Top 10 Cities that hold maximum transactions\")\n",
    "plt.show()"
   ]
  },
  {
   "cell_type": "markdown",
   "metadata": {},
   "source": [
    "**Observations**\n",
    "1. Refering to figure 1 - cities Bristol, Roanoke, Baltimore, Vallejo and so on - so forth are the cities which has least number of transactions.\n",
    "2. Refering to figure 2 - cities washington has the highest transactions, folloed by Houston and then new york and so on."
   ]
  },
  {
   "cell_type": "markdown",
   "metadata": {},
   "source": [
    "**Scatter Plot for Time - Transaction Amount**"
   ]
  },
  {
   "cell_type": "code",
   "execution_count": 17,
   "metadata": {},
   "outputs": [
    {
     "data": {
      "image/png": "[encoded data removed]",
      "text/plain": [
       "<Figure size 1440x360 with 1 Axes>"
      ]
     },
     "metadata": {
      "needs_background": "light"
     },
     "output_type": "display_data"
    }
   ],
   "source": [
    "# scatter plot - time vs amount\n",
    "fig = plt.figure(figsize = (20, 5))\n",
    "plt.scatter(data[\"date\"].values, data[\"transaction_dollar_amount\"])\n",
    "plt.xlabel(\"Date\")\n",
    "plt.ylabel(\"Transaction Amount in Dollars\")\n",
    "plt.title(\"Time vs Amount Plot\")\n",
    "plt.show()"
   ]
  },
  {
   "cell_type": "markdown",
   "metadata": {},
   "source": [
    "# Feature Engineering"
   ]
  },
  {
   "cell_type": "markdown",
   "metadata": {},
   "source": [
    "**Steps**\n",
    "1. Using zipcode, getting the corresponding longitude and latitude. Distance between longitude and latitude of transaction and city is found and this distance is used as feature.\n",
    "2. Average transaction per credit card is calculated and used as feature.\n",
    "3. From date feature, hour is extracted and binned as Early Morning, Morning, Noon, Evening, Night, Late Night and used as feature.\n",
    "4. credit_card_limit, transaction_dollar_amount, long_lat_distance, average_transactions, transaction_period are the features used for modelling.\n",
    "5. Applying One Hot encoder for Categorical column transaction_period and MinMaxScaler for Numerical features."
   ]
  },
  {
   "cell_type": "code",
   "execution_count": 18,
   "metadata": {},
   "outputs": [
    {
     "data": {
      "text/html": [
       "<div>\n",
       "<style scoped>\n",
       "    .dataframe tbody tr th:only-of-type {\n",
       "        vertical-align: middle;\n",
       "    }\n",
       "\n",
       "    .dataframe tbody tr th {\n",
       "        vertical-align: top;\n",
       "    }\n",
       "\n",
       "    .dataframe thead th {\n",
       "        text-align: right;\n",
       "    }\n",
       "</style>\n",
       "<table border=\"1\" class=\"dataframe\">\n",
       "  <thead>\n",
       "    <tr style=\"text-align: right;\">\n",
       "      <th></th>\n",
       "      <th>credit_card</th>\n",
       "      <th>city</th>\n",
       "      <th>state</th>\n",
       "      <th>zipcode</th>\n",
       "      <th>credit_card_limit</th>\n",
       "      <th>date</th>\n",
       "      <th>transaction_dollar_amount</th>\n",
       "      <th>Long</th>\n",
       "      <th>Lat</th>\n",
       "    </tr>\n",
       "  </thead>\n",
       "  <tbody>\n",
       "    <tr>\n",
       "      <th>0</th>\n",
       "      <td>1280981422329509</td>\n",
       "      <td>Dallas</td>\n",
       "      <td>PA</td>\n",
       "      <td>18612</td>\n",
       "      <td>6000</td>\n",
       "      <td>2015-08-05 00:59:19</td>\n",
       "      <td>11.94</td>\n",
       "      <td>-75.964527</td>\n",
       "      <td>41.353578</td>\n",
       "    </tr>\n",
       "    <tr>\n",
       "      <th>1</th>\n",
       "      <td>1280981422329509</td>\n",
       "      <td>Dallas</td>\n",
       "      <td>PA</td>\n",
       "      <td>18612</td>\n",
       "      <td>6000</td>\n",
       "      <td>2015-10-29 18:23:04</td>\n",
       "      <td>5.76</td>\n",
       "      <td>-76.019703</td>\n",
       "      <td>41.311467</td>\n",
       "    </tr>\n",
       "    <tr>\n",
       "      <th>2</th>\n",
       "      <td>1280981422329509</td>\n",
       "      <td>Dallas</td>\n",
       "      <td>PA</td>\n",
       "      <td>18612</td>\n",
       "      <td>6000</td>\n",
       "      <td>2015-10-25 17:50:48</td>\n",
       "      <td>25.84</td>\n",
       "      <td>-76.043031</td>\n",
       "      <td>41.291053</td>\n",
       "    </tr>\n",
       "    <tr>\n",
       "      <th>3</th>\n",
       "      <td>1280981422329509</td>\n",
       "      <td>Dallas</td>\n",
       "      <td>PA</td>\n",
       "      <td>18612</td>\n",
       "      <td>6000</td>\n",
       "      <td>2015-09-05 17:39:43</td>\n",
       "      <td>68.89</td>\n",
       "      <td>-75.944299</td>\n",
       "      <td>41.327282</td>\n",
       "    </tr>\n",
       "    <tr>\n",
       "      <th>4</th>\n",
       "      <td>1280981422329509</td>\n",
       "      <td>Dallas</td>\n",
       "      <td>PA</td>\n",
       "      <td>18612</td>\n",
       "      <td>6000</td>\n",
       "      <td>2015-09-04 14:12:59</td>\n",
       "      <td>27.01</td>\n",
       "      <td>-75.997259</td>\n",
       "      <td>41.352099</td>\n",
       "    </tr>\n",
       "  </tbody>\n",
       "</table>\n",
       "</div>"
      ],
      "text/plain": [
       "        credit_card    city state  zipcode  credit_card_limit  \\\n",
       "0  1280981422329509  Dallas    PA    18612               6000   \n",
       "1  1280981422329509  Dallas    PA    18612               6000   \n",
       "2  1280981422329509  Dallas    PA    18612               6000   \n",
       "3  1280981422329509  Dallas    PA    18612               6000   \n",
       "4  1280981422329509  Dallas    PA    18612               6000   \n",
       "\n",
       "                 date  transaction_dollar_amount       Long        Lat  \n",
       "0 2015-08-05 00:59:19                      11.94 -75.964527  41.353578  \n",
       "1 2015-10-29 18:23:04                       5.76 -76.019703  41.311467  \n",
       "2 2015-10-25 17:50:48                      25.84 -76.043031  41.291053  \n",
       "3 2015-09-05 17:39:43                      68.89 -75.944299  41.327282  \n",
       "4 2015-09-04 14:12:59                      27.01 -75.997259  41.352099  "
      ]
     },
     "execution_count": 18,
     "metadata": {},
     "output_type": "execute_result"
    }
   ],
   "source": [
    "data.head()"
   ]
  },
  {
   "cell_type": "markdown",
   "metadata": {},
   "source": [
    "**Using zipcode, getting the corresponding longitude and latitude**"
   ]
  },
  {
   "cell_type": "code",
   "execution_count": 19,
   "metadata": {},
   "outputs": [
    {
     "name": "stdout",
     "output_type": "stream",
     "text": [
      "Unique Cities in our data is 124\n"
     ]
    }
   ],
   "source": [
    "unique_city = list(set(list(data[\"city\"])))\n",
    "print(\"Unique Cities in our data is\",len(unique_city))"
   ]
  },
  {
   "cell_type": "code",
   "execution_count": 20,
   "metadata": {},
   "outputs": [
    {
     "name": "stderr",
     "output_type": "stream",
     "text": [
      "100%|████████████████████████████████████████████████████████████████████████████████| 124/124 [01:03<00:00,  1.97it/s]\n"
     ]
    },
    {
     "data": {
      "text/html": [
       "<div>\n",
       "<style scoped>\n",
       "    .dataframe tbody tr th:only-of-type {\n",
       "        vertical-align: middle;\n",
       "    }\n",
       "\n",
       "    .dataframe tbody tr th {\n",
       "        vertical-align: top;\n",
       "    }\n",
       "\n",
       "    .dataframe thead th {\n",
       "        text-align: right;\n",
       "    }\n",
       "</style>\n",
       "<table border=\"1\" class=\"dataframe\">\n",
       "  <thead>\n",
       "    <tr style=\"text-align: right;\">\n",
       "      <th></th>\n",
       "      <th>credit_card</th>\n",
       "      <th>city</th>\n",
       "      <th>state</th>\n",
       "      <th>zipcode</th>\n",
       "      <th>credit_card_limit</th>\n",
       "      <th>date</th>\n",
       "      <th>transaction_dollar_amount</th>\n",
       "      <th>Long</th>\n",
       "      <th>Lat</th>\n",
       "      <th>City_Long_Lat</th>\n",
       "    </tr>\n",
       "  </thead>\n",
       "  <tbody>\n",
       "    <tr>\n",
       "      <th>0</th>\n",
       "      <td>1280981422329509</td>\n",
       "      <td>Dallas</td>\n",
       "      <td>PA</td>\n",
       "      <td>18612</td>\n",
       "      <td>6000</td>\n",
       "      <td>2015-08-05 00:59:19</td>\n",
       "      <td>11.94</td>\n",
       "      <td>-75.964527</td>\n",
       "      <td>41.353578</td>\n",
       "      <td>[-96.7968559, 32.7762719]</td>\n",
       "    </tr>\n",
       "    <tr>\n",
       "      <th>1</th>\n",
       "      <td>1280981422329509</td>\n",
       "      <td>Dallas</td>\n",
       "      <td>PA</td>\n",
       "      <td>18612</td>\n",
       "      <td>6000</td>\n",
       "      <td>2015-10-29 18:23:04</td>\n",
       "      <td>5.76</td>\n",
       "      <td>-76.019703</td>\n",
       "      <td>41.311467</td>\n",
       "      <td>[-96.7968559, 32.7762719]</td>\n",
       "    </tr>\n",
       "    <tr>\n",
       "      <th>2</th>\n",
       "      <td>1280981422329509</td>\n",
       "      <td>Dallas</td>\n",
       "      <td>PA</td>\n",
       "      <td>18612</td>\n",
       "      <td>6000</td>\n",
       "      <td>2015-10-25 17:50:48</td>\n",
       "      <td>25.84</td>\n",
       "      <td>-76.043031</td>\n",
       "      <td>41.291053</td>\n",
       "      <td>[-96.7968559, 32.7762719]</td>\n",
       "    </tr>\n",
       "    <tr>\n",
       "      <th>3</th>\n",
       "      <td>1280981422329509</td>\n",
       "      <td>Dallas</td>\n",
       "      <td>PA</td>\n",
       "      <td>18612</td>\n",
       "      <td>6000</td>\n",
       "      <td>2015-09-05 17:39:43</td>\n",
       "      <td>68.89</td>\n",
       "      <td>-75.944299</td>\n",
       "      <td>41.327282</td>\n",
       "      <td>[-96.7968559, 32.7762719]</td>\n",
       "    </tr>\n",
       "    <tr>\n",
       "      <th>4</th>\n",
       "      <td>1280981422329509</td>\n",
       "      <td>Dallas</td>\n",
       "      <td>PA</td>\n",
       "      <td>18612</td>\n",
       "      <td>6000</td>\n",
       "      <td>2015-09-04 14:12:59</td>\n",
       "      <td>27.01</td>\n",
       "      <td>-75.997259</td>\n",
       "      <td>41.352099</td>\n",
       "      <td>[-96.7968559, 32.7762719]</td>\n",
       "    </tr>\n",
       "  </tbody>\n",
       "</table>\n",
       "</div>"
      ],
      "text/plain": [
       "        credit_card    city state  zipcode  credit_card_limit  \\\n",
       "0  1280981422329509  Dallas    PA    18612               6000   \n",
       "1  1280981422329509  Dallas    PA    18612               6000   \n",
       "2  1280981422329509  Dallas    PA    18612               6000   \n",
       "3  1280981422329509  Dallas    PA    18612               6000   \n",
       "4  1280981422329509  Dallas    PA    18612               6000   \n",
       "\n",
       "                 date  transaction_dollar_amount       Long        Lat  \\\n",
       "0 2015-08-05 00:59:19                      11.94 -75.964527  41.353578   \n",
       "1 2015-10-29 18:23:04                       5.76 -76.019703  41.311467   \n",
       "2 2015-10-25 17:50:48                      25.84 -76.043031  41.291053   \n",
       "3 2015-09-05 17:39:43                      68.89 -75.944299  41.327282   \n",
       "4 2015-09-04 14:12:59                      27.01 -75.997259  41.352099   \n",
       "\n",
       "               City_Long_Lat  \n",
       "0  [-96.7968559, 32.7762719]  \n",
       "1  [-96.7968559, 32.7762719]  \n",
       "2  [-96.7968559, 32.7762719]  \n",
       "3  [-96.7968559, 32.7762719]  \n",
       "4  [-96.7968559, 32.7762719]  "
      ]
     },
     "execution_count": 20,
     "metadata": {},
     "output_type": "execute_result"
    }
   ],
   "source": [
    "# extracting longitute and latitude for each city\n",
    "city_long_latitude = {}\n",
    "geolocator = Nominatim(user_agent=\"Your_Name\")\n",
    "for city in tqdm(unique_city):\n",
    "    address = str(city)\n",
    "    location = geolocator.geocode(address)\n",
    "    city_long_latitude[city] = [location.longitude, location.latitude]\n",
    "\n",
    "data[\"City_Long_Lat\"] = data[\"city\"].apply(lambda row: city_long_latitude.get(row))\n",
    "data.head()"
   ]
  },
  {
   "cell_type": "code",
   "execution_count": 21,
   "metadata": {},
   "outputs": [
    {
     "data": {
      "text/html": [
       "<div>\n",
       "<style scoped>\n",
       "    .dataframe tbody tr th:only-of-type {\n",
       "        vertical-align: middle;\n",
       "    }\n",
       "\n",
       "    .dataframe tbody tr th {\n",
       "        vertical-align: top;\n",
       "    }\n",
       "\n",
       "    .dataframe thead th {\n",
       "        text-align: right;\n",
       "    }\n",
       "</style>\n",
       "<table border=\"1\" class=\"dataframe\">\n",
       "  <thead>\n",
       "    <tr style=\"text-align: right;\">\n",
       "      <th></th>\n",
       "      <th>credit_card</th>\n",
       "      <th>city</th>\n",
       "      <th>state</th>\n",
       "      <th>zipcode</th>\n",
       "      <th>credit_card_limit</th>\n",
       "      <th>date</th>\n",
       "      <th>transaction_dollar_amount</th>\n",
       "      <th>Long</th>\n",
       "      <th>Lat</th>\n",
       "      <th>city_longitude</th>\n",
       "      <th>city_latitude</th>\n",
       "    </tr>\n",
       "  </thead>\n",
       "  <tbody>\n",
       "    <tr>\n",
       "      <th>0</th>\n",
       "      <td>1280981422329509</td>\n",
       "      <td>Dallas</td>\n",
       "      <td>PA</td>\n",
       "      <td>18612</td>\n",
       "      <td>6000</td>\n",
       "      <td>2015-08-05 00:59:19</td>\n",
       "      <td>11.94</td>\n",
       "      <td>-75.964527</td>\n",
       "      <td>41.353578</td>\n",
       "      <td>-96.796856</td>\n",
       "      <td>32.776272</td>\n",
       "    </tr>\n",
       "    <tr>\n",
       "      <th>1</th>\n",
       "      <td>1280981422329509</td>\n",
       "      <td>Dallas</td>\n",
       "      <td>PA</td>\n",
       "      <td>18612</td>\n",
       "      <td>6000</td>\n",
       "      <td>2015-10-29 18:23:04</td>\n",
       "      <td>5.76</td>\n",
       "      <td>-76.019703</td>\n",
       "      <td>41.311467</td>\n",
       "      <td>-96.796856</td>\n",
       "      <td>32.776272</td>\n",
       "    </tr>\n",
       "    <tr>\n",
       "      <th>2</th>\n",
       "      <td>1280981422329509</td>\n",
       "      <td>Dallas</td>\n",
       "      <td>PA</td>\n",
       "      <td>18612</td>\n",
       "      <td>6000</td>\n",
       "      <td>2015-10-25 17:50:48</td>\n",
       "      <td>25.84</td>\n",
       "      <td>-76.043031</td>\n",
       "      <td>41.291053</td>\n",
       "      <td>-96.796856</td>\n",
       "      <td>32.776272</td>\n",
       "    </tr>\n",
       "    <tr>\n",
       "      <th>3</th>\n",
       "      <td>1280981422329509</td>\n",
       "      <td>Dallas</td>\n",
       "      <td>PA</td>\n",
       "      <td>18612</td>\n",
       "      <td>6000</td>\n",
       "      <td>2015-09-05 17:39:43</td>\n",
       "      <td>68.89</td>\n",
       "      <td>-75.944299</td>\n",
       "      <td>41.327282</td>\n",
       "      <td>-96.796856</td>\n",
       "      <td>32.776272</td>\n",
       "    </tr>\n",
       "    <tr>\n",
       "      <th>4</th>\n",
       "      <td>1280981422329509</td>\n",
       "      <td>Dallas</td>\n",
       "      <td>PA</td>\n",
       "      <td>18612</td>\n",
       "      <td>6000</td>\n",
       "      <td>2015-09-04 14:12:59</td>\n",
       "      <td>27.01</td>\n",
       "      <td>-75.997259</td>\n",
       "      <td>41.352099</td>\n",
       "      <td>-96.796856</td>\n",
       "      <td>32.776272</td>\n",
       "    </tr>\n",
       "  </tbody>\n",
       "</table>\n",
       "</div>"
      ],
      "text/plain": [
       "        credit_card    city state  zipcode  credit_card_limit  \\\n",
       "0  1280981422329509  Dallas    PA    18612               6000   \n",
       "1  1280981422329509  Dallas    PA    18612               6000   \n",
       "2  1280981422329509  Dallas    PA    18612               6000   \n",
       "3  1280981422329509  Dallas    PA    18612               6000   \n",
       "4  1280981422329509  Dallas    PA    18612               6000   \n",
       "\n",
       "                 date  transaction_dollar_amount       Long        Lat  \\\n",
       "0 2015-08-05 00:59:19                      11.94 -75.964527  41.353578   \n",
       "1 2015-10-29 18:23:04                       5.76 -76.019703  41.311467   \n",
       "2 2015-10-25 17:50:48                      25.84 -76.043031  41.291053   \n",
       "3 2015-09-05 17:39:43                      68.89 -75.944299  41.327282   \n",
       "4 2015-09-04 14:12:59                      27.01 -75.997259  41.352099   \n",
       "\n",
       "   city_longitude  city_latitude  \n",
       "0      -96.796856      32.776272  \n",
       "1      -96.796856      32.776272  \n",
       "2      -96.796856      32.776272  \n",
       "3      -96.796856      32.776272  \n",
       "4      -96.796856      32.776272  "
      ]
     },
     "execution_count": 21,
     "metadata": {},
     "output_type": "execute_result"
    }
   ],
   "source": [
    "# creating temporary dataframe and spliting City_Long_Lat into two separate columns - 'city_longitude','city_latitude'\n",
    "temp_df = pd.DataFrame(data['City_Long_Lat'].to_list(), columns=['city_longitude','city_latitude'])\n",
    "# drop city_long_lat column\n",
    "data = data.drop(\"City_Long_Lat\",axis=1)\n",
    "# combining temporary df having two columns with our original data\n",
    "data = pd.concat([data, temp_df], axis=1)\n",
    "data.head()"
   ]
  },
  {
   "cell_type": "markdown",
   "metadata": {},
   "source": [
    "**Feature - Distance between longitude and latitude of transaction and city**"
   ]
  },
  {
   "cell_type": "code",
   "execution_count": 22,
   "metadata": {},
   "outputs": [
    {
     "name": "stderr",
     "output_type": "stream",
     "text": [
      "C:\\Users\\Smitha Kannur\\anaconda3\\envs\\tf-gpu\\lib\\site-packages\\ipykernel_launcher.py:13: FutureWarning: Series.dt.weekofyear and Series.dt.week have been deprecated.  Please use Series.dt.isocalendar().week instead.\n",
      "  del sys.path[0]\n"
     ]
    },
    {
     "data": {
      "text/html": [
       "<div>\n",
       "<style scoped>\n",
       "    .dataframe tbody tr th:only-of-type {\n",
       "        vertical-align: middle;\n",
       "    }\n",
       "\n",
       "    .dataframe tbody tr th {\n",
       "        vertical-align: top;\n",
       "    }\n",
       "\n",
       "    .dataframe thead th {\n",
       "        text-align: right;\n",
       "    }\n",
       "</style>\n",
       "<table border=\"1\" class=\"dataframe\">\n",
       "  <thead>\n",
       "    <tr style=\"text-align: right;\">\n",
       "      <th></th>\n",
       "      <th>credit_card</th>\n",
       "      <th>city</th>\n",
       "      <th>state</th>\n",
       "      <th>zipcode</th>\n",
       "      <th>credit_card_limit</th>\n",
       "      <th>date</th>\n",
       "      <th>transaction_dollar_amount</th>\n",
       "      <th>Long</th>\n",
       "      <th>Lat</th>\n",
       "      <th>city_longitude</th>\n",
       "      <th>city_latitude</th>\n",
       "      <th>long_lat_distance</th>\n",
       "      <th>dates</th>\n",
       "      <th>time</th>\n",
       "      <th>week</th>\n",
       "    </tr>\n",
       "  </thead>\n",
       "  <tbody>\n",
       "    <tr>\n",
       "      <th>0</th>\n",
       "      <td>1280981422329509</td>\n",
       "      <td>Dallas</td>\n",
       "      <td>PA</td>\n",
       "      <td>18612</td>\n",
       "      <td>6000</td>\n",
       "      <td>2015-08-05 00:59:19</td>\n",
       "      <td>11.94</td>\n",
       "      <td>-75.964527</td>\n",
       "      <td>41.353578</td>\n",
       "      <td>-96.796856</td>\n",
       "      <td>32.776272</td>\n",
       "      <td>22.529007</td>\n",
       "      <td>2015-08-05</td>\n",
       "      <td>00:59:19</td>\n",
       "      <td>32</td>\n",
       "    </tr>\n",
       "    <tr>\n",
       "      <th>1</th>\n",
       "      <td>1280981422329509</td>\n",
       "      <td>Dallas</td>\n",
       "      <td>PA</td>\n",
       "      <td>18612</td>\n",
       "      <td>6000</td>\n",
       "      <td>2015-10-29 18:23:04</td>\n",
       "      <td>5.76</td>\n",
       "      <td>-76.019703</td>\n",
       "      <td>41.311467</td>\n",
       "      <td>-96.796856</td>\n",
       "      <td>32.776272</td>\n",
       "      <td>22.461960</td>\n",
       "      <td>2015-10-29</td>\n",
       "      <td>18:23:04</td>\n",
       "      <td>44</td>\n",
       "    </tr>\n",
       "    <tr>\n",
       "      <th>2</th>\n",
       "      <td>1280981422329509</td>\n",
       "      <td>Dallas</td>\n",
       "      <td>PA</td>\n",
       "      <td>18612</td>\n",
       "      <td>6000</td>\n",
       "      <td>2015-10-25 17:50:48</td>\n",
       "      <td>25.84</td>\n",
       "      <td>-76.043031</td>\n",
       "      <td>41.291053</td>\n",
       "      <td>-96.796856</td>\n",
       "      <td>32.776272</td>\n",
       "      <td>22.432627</td>\n",
       "      <td>2015-10-25</td>\n",
       "      <td>17:50:48</td>\n",
       "      <td>43</td>\n",
       "    </tr>\n",
       "    <tr>\n",
       "      <th>3</th>\n",
       "      <td>1280981422329509</td>\n",
       "      <td>Dallas</td>\n",
       "      <td>PA</td>\n",
       "      <td>18612</td>\n",
       "      <td>6000</td>\n",
       "      <td>2015-09-05 17:39:43</td>\n",
       "      <td>68.89</td>\n",
       "      <td>-75.944299</td>\n",
       "      <td>41.327282</td>\n",
       "      <td>-96.796856</td>\n",
       "      <td>32.776272</td>\n",
       "      <td>22.537721</td>\n",
       "      <td>2015-09-05</td>\n",
       "      <td>17:39:43</td>\n",
       "      <td>36</td>\n",
       "    </tr>\n",
       "    <tr>\n",
       "      <th>4</th>\n",
       "      <td>1280981422329509</td>\n",
       "      <td>Dallas</td>\n",
       "      <td>PA</td>\n",
       "      <td>18612</td>\n",
       "      <td>6000</td>\n",
       "      <td>2015-09-04 14:12:59</td>\n",
       "      <td>27.01</td>\n",
       "      <td>-75.997259</td>\n",
       "      <td>41.352099</td>\n",
       "      <td>-96.796856</td>\n",
       "      <td>32.776272</td>\n",
       "      <td>22.498179</td>\n",
       "      <td>2015-09-04</td>\n",
       "      <td>14:12:59</td>\n",
       "      <td>36</td>\n",
       "    </tr>\n",
       "  </tbody>\n",
       "</table>\n",
       "</div>"
      ],
      "text/plain": [
       "        credit_card    city state  zipcode  credit_card_limit  \\\n",
       "0  1280981422329509  Dallas    PA    18612               6000   \n",
       "1  1280981422329509  Dallas    PA    18612               6000   \n",
       "2  1280981422329509  Dallas    PA    18612               6000   \n",
       "3  1280981422329509  Dallas    PA    18612               6000   \n",
       "4  1280981422329509  Dallas    PA    18612               6000   \n",
       "\n",
       "                 date  transaction_dollar_amount       Long        Lat  \\\n",
       "0 2015-08-05 00:59:19                      11.94 -75.964527  41.353578   \n",
       "1 2015-10-29 18:23:04                       5.76 -76.019703  41.311467   \n",
       "2 2015-10-25 17:50:48                      25.84 -76.043031  41.291053   \n",
       "3 2015-09-05 17:39:43                      68.89 -75.944299  41.327282   \n",
       "4 2015-09-04 14:12:59                      27.01 -75.997259  41.352099   \n",
       "\n",
       "   city_longitude  city_latitude  long_lat_distance       dates      time  \\\n",
       "0      -96.796856      32.776272          22.529007  2015-08-05  00:59:19   \n",
       "1      -96.796856      32.776272          22.461960  2015-10-29  18:23:04   \n",
       "2      -96.796856      32.776272          22.432627  2015-10-25  17:50:48   \n",
       "3      -96.796856      32.776272          22.537721  2015-09-05  17:39:43   \n",
       "4      -96.796856      32.776272          22.498179  2015-09-04  14:12:59   \n",
       "\n",
       "   week  \n",
       "0    32  \n",
       "1    44  \n",
       "2    43  \n",
       "3    36  \n",
       "4    36  "
      ]
     },
     "execution_count": 22,
     "metadata": {},
     "output_type": "execute_result"
    }
   ],
   "source": [
    "# distance\n",
    "def distance(row):\n",
    "    px = row[\"Long\"]\n",
    "    py = row[\"Lat\"]\n",
    "    qx = row[\"city_longitude\"]\n",
    "    qy = row[\"city_latitude\"]\n",
    "    dist = math.sqrt((px - qx)**2 + (py - qy)**2)\n",
    "    return dist\n",
    "    \n",
    "data[\"long_lat_distance\"] =  data.apply(lambda row: distance(row), axis=1)\n",
    "data['dates'] = pd.to_datetime(data['date']).dt.date\n",
    "data['time'] = pd.to_datetime(data['date']).dt.time\n",
    "data['week'] = data['date'].dt.week\n",
    "#data = data.drop(\"date\",axis=1)\n",
    "data.head()"
   ]
  },
  {
   "cell_type": "markdown",
   "metadata": {},
   "source": [
    "**Feature - Average transaction per credit card**"
   ]
  },
  {
   "cell_type": "code",
   "execution_count": 23,
   "metadata": {},
   "outputs": [
    {
     "data": {
      "text/html": [
       "<div>\n",
       "<style scoped>\n",
       "    .dataframe tbody tr th:only-of-type {\n",
       "        vertical-align: middle;\n",
       "    }\n",
       "\n",
       "    .dataframe tbody tr th {\n",
       "        vertical-align: top;\n",
       "    }\n",
       "\n",
       "    .dataframe thead th {\n",
       "        text-align: right;\n",
       "    }\n",
       "</style>\n",
       "<table border=\"1\" class=\"dataframe\">\n",
       "  <thead>\n",
       "    <tr style=\"text-align: right;\">\n",
       "      <th></th>\n",
       "      <th>credit_card</th>\n",
       "      <th>city</th>\n",
       "      <th>state</th>\n",
       "      <th>zipcode</th>\n",
       "      <th>credit_card_limit</th>\n",
       "      <th>date</th>\n",
       "      <th>transaction_dollar_amount</th>\n",
       "      <th>Long</th>\n",
       "      <th>Lat</th>\n",
       "      <th>city_longitude</th>\n",
       "      <th>city_latitude</th>\n",
       "      <th>long_lat_distance</th>\n",
       "      <th>dates</th>\n",
       "      <th>time</th>\n",
       "      <th>week</th>\n",
       "      <th>average_transactions</th>\n",
       "    </tr>\n",
       "  </thead>\n",
       "  <tbody>\n",
       "    <tr>\n",
       "      <th>0</th>\n",
       "      <td>1280981422329509</td>\n",
       "      <td>Dallas</td>\n",
       "      <td>PA</td>\n",
       "      <td>18612</td>\n",
       "      <td>6000</td>\n",
       "      <td>2015-08-05 00:59:19</td>\n",
       "      <td>11.94</td>\n",
       "      <td>-75.964527</td>\n",
       "      <td>41.353578</td>\n",
       "      <td>-96.796856</td>\n",
       "      <td>32.776272</td>\n",
       "      <td>22.529007</td>\n",
       "      <td>2015-08-05</td>\n",
       "      <td>00:59:19</td>\n",
       "      <td>32</td>\n",
       "      <td>53.062943</td>\n",
       "    </tr>\n",
       "    <tr>\n",
       "      <th>1</th>\n",
       "      <td>1280981422329509</td>\n",
       "      <td>Dallas</td>\n",
       "      <td>PA</td>\n",
       "      <td>18612</td>\n",
       "      <td>6000</td>\n",
       "      <td>2015-10-29 18:23:04</td>\n",
       "      <td>5.76</td>\n",
       "      <td>-76.019703</td>\n",
       "      <td>41.311467</td>\n",
       "      <td>-96.796856</td>\n",
       "      <td>32.776272</td>\n",
       "      <td>22.461960</td>\n",
       "      <td>2015-10-29</td>\n",
       "      <td>18:23:04</td>\n",
       "      <td>44</td>\n",
       "      <td>53.062943</td>\n",
       "    </tr>\n",
       "    <tr>\n",
       "      <th>2</th>\n",
       "      <td>1280981422329509</td>\n",
       "      <td>Dallas</td>\n",
       "      <td>PA</td>\n",
       "      <td>18612</td>\n",
       "      <td>6000</td>\n",
       "      <td>2015-10-25 17:50:48</td>\n",
       "      <td>25.84</td>\n",
       "      <td>-76.043031</td>\n",
       "      <td>41.291053</td>\n",
       "      <td>-96.796856</td>\n",
       "      <td>32.776272</td>\n",
       "      <td>22.432627</td>\n",
       "      <td>2015-10-25</td>\n",
       "      <td>17:50:48</td>\n",
       "      <td>43</td>\n",
       "      <td>53.062943</td>\n",
       "    </tr>\n",
       "    <tr>\n",
       "      <th>3</th>\n",
       "      <td>1280981422329509</td>\n",
       "      <td>Dallas</td>\n",
       "      <td>PA</td>\n",
       "      <td>18612</td>\n",
       "      <td>6000</td>\n",
       "      <td>2015-09-05 17:39:43</td>\n",
       "      <td>68.89</td>\n",
       "      <td>-75.944299</td>\n",
       "      <td>41.327282</td>\n",
       "      <td>-96.796856</td>\n",
       "      <td>32.776272</td>\n",
       "      <td>22.537721</td>\n",
       "      <td>2015-09-05</td>\n",
       "      <td>17:39:43</td>\n",
       "      <td>36</td>\n",
       "      <td>53.062943</td>\n",
       "    </tr>\n",
       "    <tr>\n",
       "      <th>4</th>\n",
       "      <td>1280981422329509</td>\n",
       "      <td>Dallas</td>\n",
       "      <td>PA</td>\n",
       "      <td>18612</td>\n",
       "      <td>6000</td>\n",
       "      <td>2015-09-04 14:12:59</td>\n",
       "      <td>27.01</td>\n",
       "      <td>-75.997259</td>\n",
       "      <td>41.352099</td>\n",
       "      <td>-96.796856</td>\n",
       "      <td>32.776272</td>\n",
       "      <td>22.498179</td>\n",
       "      <td>2015-09-04</td>\n",
       "      <td>14:12:59</td>\n",
       "      <td>36</td>\n",
       "      <td>53.062943</td>\n",
       "    </tr>\n",
       "  </tbody>\n",
       "</table>\n",
       "</div>"
      ],
      "text/plain": [
       "        credit_card    city state  zipcode  credit_card_limit  \\\n",
       "0  1280981422329509  Dallas    PA    18612               6000   \n",
       "1  1280981422329509  Dallas    PA    18612               6000   \n",
       "2  1280981422329509  Dallas    PA    18612               6000   \n",
       "3  1280981422329509  Dallas    PA    18612               6000   \n",
       "4  1280981422329509  Dallas    PA    18612               6000   \n",
       "\n",
       "                 date  transaction_dollar_amount       Long        Lat  \\\n",
       "0 2015-08-05 00:59:19                      11.94 -75.964527  41.353578   \n",
       "1 2015-10-29 18:23:04                       5.76 -76.019703  41.311467   \n",
       "2 2015-10-25 17:50:48                      25.84 -76.043031  41.291053   \n",
       "3 2015-09-05 17:39:43                      68.89 -75.944299  41.327282   \n",
       "4 2015-09-04 14:12:59                      27.01 -75.997259  41.352099   \n",
       "\n",
       "   city_longitude  city_latitude  long_lat_distance       dates      time  \\\n",
       "0      -96.796856      32.776272          22.529007  2015-08-05  00:59:19   \n",
       "1      -96.796856      32.776272          22.461960  2015-10-29  18:23:04   \n",
       "2      -96.796856      32.776272          22.432627  2015-10-25  17:50:48   \n",
       "3      -96.796856      32.776272          22.537721  2015-09-05  17:39:43   \n",
       "4      -96.796856      32.776272          22.498179  2015-09-04  14:12:59   \n",
       "\n",
       "   week  average_transactions  \n",
       "0    32             53.062943  \n",
       "1    44             53.062943  \n",
       "2    43             53.062943  \n",
       "3    36             53.062943  \n",
       "4    36             53.062943  "
      ]
     },
     "execution_count": 23,
     "metadata": {},
     "output_type": "execute_result"
    }
   ],
   "source": [
    "temp_df = data.groupby(['credit_card']).agg({\"transaction_dollar_amount\":['mean']}).reset_index()\n",
    "temp_df.columns = [\"credit_card\", \"average_transactions\"]\n",
    "data = pd.merge(data, temp_df, on='credit_card')\n",
    "data.head()"
   ]
  },
  {
   "cell_type": "markdown",
   "metadata": {},
   "source": [
    "**Feature - Binning Time as Early Morning, Morning, Noon, Evening, Night, Late Night**"
   ]
  },
  {
   "cell_type": "code",
   "execution_count": 24,
   "metadata": {},
   "outputs": [
    {
     "data": {
      "text/html": [
       "<div>\n",
       "<style scoped>\n",
       "    .dataframe tbody tr th:only-of-type {\n",
       "        vertical-align: middle;\n",
       "    }\n",
       "\n",
       "    .dataframe tbody tr th {\n",
       "        vertical-align: top;\n",
       "    }\n",
       "\n",
       "    .dataframe thead th {\n",
       "        text-align: right;\n",
       "    }\n",
       "</style>\n",
       "<table border=\"1\" class=\"dataframe\">\n",
       "  <thead>\n",
       "    <tr style=\"text-align: right;\">\n",
       "      <th></th>\n",
       "      <th>credit_card</th>\n",
       "      <th>city</th>\n",
       "      <th>state</th>\n",
       "      <th>zipcode</th>\n",
       "      <th>credit_card_limit</th>\n",
       "      <th>date</th>\n",
       "      <th>transaction_dollar_amount</th>\n",
       "      <th>Long</th>\n",
       "      <th>Lat</th>\n",
       "      <th>city_longitude</th>\n",
       "      <th>city_latitude</th>\n",
       "      <th>long_lat_distance</th>\n",
       "      <th>dates</th>\n",
       "      <th>time</th>\n",
       "      <th>week</th>\n",
       "      <th>average_transactions</th>\n",
       "      <th>hour</th>\n",
       "      <th>transaction_period</th>\n",
       "    </tr>\n",
       "  </thead>\n",
       "  <tbody>\n",
       "    <tr>\n",
       "      <th>0</th>\n",
       "      <td>1280981422329509</td>\n",
       "      <td>Dallas</td>\n",
       "      <td>PA</td>\n",
       "      <td>18612</td>\n",
       "      <td>6000</td>\n",
       "      <td>2015-08-05 00:59:19</td>\n",
       "      <td>11.94</td>\n",
       "      <td>-75.964527</td>\n",
       "      <td>41.353578</td>\n",
       "      <td>-96.796856</td>\n",
       "      <td>32.776272</td>\n",
       "      <td>22.529007</td>\n",
       "      <td>2015-08-05</td>\n",
       "      <td>00:59:19</td>\n",
       "      <td>32</td>\n",
       "      <td>53.062943</td>\n",
       "      <td>0</td>\n",
       "      <td>Late Night</td>\n",
       "    </tr>\n",
       "    <tr>\n",
       "      <th>1</th>\n",
       "      <td>1280981422329509</td>\n",
       "      <td>Dallas</td>\n",
       "      <td>PA</td>\n",
       "      <td>18612</td>\n",
       "      <td>6000</td>\n",
       "      <td>2015-10-29 18:23:04</td>\n",
       "      <td>5.76</td>\n",
       "      <td>-76.019703</td>\n",
       "      <td>41.311467</td>\n",
       "      <td>-96.796856</td>\n",
       "      <td>32.776272</td>\n",
       "      <td>22.461960</td>\n",
       "      <td>2015-10-29</td>\n",
       "      <td>18:23:04</td>\n",
       "      <td>44</td>\n",
       "      <td>53.062943</td>\n",
       "      <td>18</td>\n",
       "      <td>Evening</td>\n",
       "    </tr>\n",
       "    <tr>\n",
       "      <th>2</th>\n",
       "      <td>1280981422329509</td>\n",
       "      <td>Dallas</td>\n",
       "      <td>PA</td>\n",
       "      <td>18612</td>\n",
       "      <td>6000</td>\n",
       "      <td>2015-10-25 17:50:48</td>\n",
       "      <td>25.84</td>\n",
       "      <td>-76.043031</td>\n",
       "      <td>41.291053</td>\n",
       "      <td>-96.796856</td>\n",
       "      <td>32.776272</td>\n",
       "      <td>22.432627</td>\n",
       "      <td>2015-10-25</td>\n",
       "      <td>17:50:48</td>\n",
       "      <td>43</td>\n",
       "      <td>53.062943</td>\n",
       "      <td>17</td>\n",
       "      <td>Evening</td>\n",
       "    </tr>\n",
       "    <tr>\n",
       "      <th>3</th>\n",
       "      <td>1280981422329509</td>\n",
       "      <td>Dallas</td>\n",
       "      <td>PA</td>\n",
       "      <td>18612</td>\n",
       "      <td>6000</td>\n",
       "      <td>2015-09-05 17:39:43</td>\n",
       "      <td>68.89</td>\n",
       "      <td>-75.944299</td>\n",
       "      <td>41.327282</td>\n",
       "      <td>-96.796856</td>\n",
       "      <td>32.776272</td>\n",
       "      <td>22.537721</td>\n",
       "      <td>2015-09-05</td>\n",
       "      <td>17:39:43</td>\n",
       "      <td>36</td>\n",
       "      <td>53.062943</td>\n",
       "      <td>17</td>\n",
       "      <td>Evening</td>\n",
       "    </tr>\n",
       "    <tr>\n",
       "      <th>4</th>\n",
       "      <td>1280981422329509</td>\n",
       "      <td>Dallas</td>\n",
       "      <td>PA</td>\n",
       "      <td>18612</td>\n",
       "      <td>6000</td>\n",
       "      <td>2015-09-04 14:12:59</td>\n",
       "      <td>27.01</td>\n",
       "      <td>-75.997259</td>\n",
       "      <td>41.352099</td>\n",
       "      <td>-96.796856</td>\n",
       "      <td>32.776272</td>\n",
       "      <td>22.498179</td>\n",
       "      <td>2015-09-04</td>\n",
       "      <td>14:12:59</td>\n",
       "      <td>36</td>\n",
       "      <td>53.062943</td>\n",
       "      <td>14</td>\n",
       "      <td>Noon</td>\n",
       "    </tr>\n",
       "  </tbody>\n",
       "</table>\n",
       "</div>"
      ],
      "text/plain": [
       "        credit_card    city state  zipcode  credit_card_limit  \\\n",
       "0  1280981422329509  Dallas    PA    18612               6000   \n",
       "1  1280981422329509  Dallas    PA    18612               6000   \n",
       "2  1280981422329509  Dallas    PA    18612               6000   \n",
       "3  1280981422329509  Dallas    PA    18612               6000   \n",
       "4  1280981422329509  Dallas    PA    18612               6000   \n",
       "\n",
       "                 date  transaction_dollar_amount       Long        Lat  \\\n",
       "0 2015-08-05 00:59:19                      11.94 -75.964527  41.353578   \n",
       "1 2015-10-29 18:23:04                       5.76 -76.019703  41.311467   \n",
       "2 2015-10-25 17:50:48                      25.84 -76.043031  41.291053   \n",
       "3 2015-09-05 17:39:43                      68.89 -75.944299  41.327282   \n",
       "4 2015-09-04 14:12:59                      27.01 -75.997259  41.352099   \n",
       "\n",
       "   city_longitude  city_latitude  long_lat_distance       dates      time  \\\n",
       "0      -96.796856      32.776272          22.529007  2015-08-05  00:59:19   \n",
       "1      -96.796856      32.776272          22.461960  2015-10-29  18:23:04   \n",
       "2      -96.796856      32.776272          22.432627  2015-10-25  17:50:48   \n",
       "3      -96.796856      32.776272          22.537721  2015-09-05  17:39:43   \n",
       "4      -96.796856      32.776272          22.498179  2015-09-04  14:12:59   \n",
       "\n",
       "   week  average_transactions  hour transaction_period  \n",
       "0    32             53.062943     0         Late Night  \n",
       "1    44             53.062943    18            Evening  \n",
       "2    43             53.062943    17            Evening  \n",
       "3    36             53.062943    17            Evening  \n",
       "4    36             53.062943    14               Noon  "
      ]
     },
     "execution_count": 24,
     "metadata": {},
     "output_type": "execute_result"
    }
   ],
   "source": [
    "def classify_hour(row):\n",
    "    x = int(row)\n",
    "    if (x > 4) and (x <= 8):\n",
    "        return 'Early Morning'\n",
    "    elif (x > 8) and (x <= 12 ):\n",
    "        return 'Morning'\n",
    "    elif (x > 12) and (x <= 16):\n",
    "        return 'Noon'\n",
    "    elif (x > 16) and (x <= 20) :\n",
    "        return 'Evening'\n",
    "    elif (x > 20) and (x <= 24):\n",
    "        return 'Night'\n",
    "    elif (x <= 4):\n",
    "        return 'Late Night'\n",
    "\n",
    "data['hour'] = data['date'].dt.hour\n",
    "data[\"transaction_period\"] = data[\"hour\"].apply(lambda row: classify_hour(row))\n",
    "data.head()"
   ]
  },
  {
   "cell_type": "code",
   "execution_count": 25,
   "metadata": {},
   "outputs": [],
   "source": [
    "# original dataset\n",
    "#data.head()"
   ]
  },
  {
   "cell_type": "markdown",
   "metadata": {},
   "source": [
    "**Dropping columns by keeping features necessary to train model**"
   ]
  },
  {
   "cell_type": "code",
   "execution_count": 26,
   "metadata": {},
   "outputs": [
    {
     "data": {
      "text/html": [
       "<div>\n",
       "<style scoped>\n",
       "    .dataframe tbody tr th:only-of-type {\n",
       "        vertical-align: middle;\n",
       "    }\n",
       "\n",
       "    .dataframe tbody tr th {\n",
       "        vertical-align: top;\n",
       "    }\n",
       "\n",
       "    .dataframe thead th {\n",
       "        text-align: right;\n",
       "    }\n",
       "</style>\n",
       "<table border=\"1\" class=\"dataframe\">\n",
       "  <thead>\n",
       "    <tr style=\"text-align: right;\">\n",
       "      <th></th>\n",
       "      <th>credit_card_limit</th>\n",
       "      <th>transaction_dollar_amount</th>\n",
       "      <th>long_lat_distance</th>\n",
       "      <th>average_transactions</th>\n",
       "      <th>transaction_period</th>\n",
       "    </tr>\n",
       "  </thead>\n",
       "  <tbody>\n",
       "    <tr>\n",
       "      <th>0</th>\n",
       "      <td>6000</td>\n",
       "      <td>11.94</td>\n",
       "      <td>22.529007</td>\n",
       "      <td>53.062943</td>\n",
       "      <td>Late Night</td>\n",
       "    </tr>\n",
       "    <tr>\n",
       "      <th>1</th>\n",
       "      <td>6000</td>\n",
       "      <td>5.76</td>\n",
       "      <td>22.461960</td>\n",
       "      <td>53.062943</td>\n",
       "      <td>Evening</td>\n",
       "    </tr>\n",
       "    <tr>\n",
       "      <th>2</th>\n",
       "      <td>6000</td>\n",
       "      <td>25.84</td>\n",
       "      <td>22.432627</td>\n",
       "      <td>53.062943</td>\n",
       "      <td>Evening</td>\n",
       "    </tr>\n",
       "    <tr>\n",
       "      <th>3</th>\n",
       "      <td>6000</td>\n",
       "      <td>68.89</td>\n",
       "      <td>22.537721</td>\n",
       "      <td>53.062943</td>\n",
       "      <td>Evening</td>\n",
       "    </tr>\n",
       "    <tr>\n",
       "      <th>4</th>\n",
       "      <td>6000</td>\n",
       "      <td>27.01</td>\n",
       "      <td>22.498179</td>\n",
       "      <td>53.062943</td>\n",
       "      <td>Noon</td>\n",
       "    </tr>\n",
       "  </tbody>\n",
       "</table>\n",
       "</div>"
      ],
      "text/plain": [
       "   credit_card_limit  transaction_dollar_amount  long_lat_distance  \\\n",
       "0               6000                      11.94          22.529007   \n",
       "1               6000                       5.76          22.461960   \n",
       "2               6000                      25.84          22.432627   \n",
       "3               6000                      68.89          22.537721   \n",
       "4               6000                      27.01          22.498179   \n",
       "\n",
       "   average_transactions transaction_period  \n",
       "0             53.062943         Late Night  \n",
       "1             53.062943            Evening  \n",
       "2             53.062943            Evening  \n",
       "3             53.062943            Evening  \n",
       "4             53.062943               Noon  "
      ]
     },
     "execution_count": 26,
     "metadata": {},
     "output_type": "execute_result"
    }
   ],
   "source": [
    "# features extracted for model building\n",
    "model_data =  data.copy()\n",
    "columns_drop = [\"credit_card\", \"city\", \"state\", \"zipcode\", \"date\", \"Long\", \"Lat\", \"city_longitude\", \"city_latitude\", \"dates\", \"time\", \"week\", \"hour\"]\n",
    "model_data = model_data.drop(columns_drop, axis=1)\n",
    "model_data.head()"
   ]
  },
  {
   "cell_type": "markdown",
   "metadata": {},
   "source": [
    "**Applying One Hot encoder for Categorical column transaction_period**"
   ]
  },
  {
   "cell_type": "code",
   "execution_count": 27,
   "metadata": {},
   "outputs": [
    {
     "data": {
      "text/html": [
       "<div>\n",
       "<style scoped>\n",
       "    .dataframe tbody tr th:only-of-type {\n",
       "        vertical-align: middle;\n",
       "    }\n",
       "\n",
       "    .dataframe tbody tr th {\n",
       "        vertical-align: top;\n",
       "    }\n",
       "\n",
       "    .dataframe thead th {\n",
       "        text-align: right;\n",
       "    }\n",
       "</style>\n",
       "<table border=\"1\" class=\"dataframe\">\n",
       "  <thead>\n",
       "    <tr style=\"text-align: right;\">\n",
       "      <th></th>\n",
       "      <th>credit_card_limit</th>\n",
       "      <th>transaction_dollar_amount</th>\n",
       "      <th>long_lat_distance</th>\n",
       "      <th>average_transactions</th>\n",
       "      <th>transaction_period_Early Morning</th>\n",
       "      <th>transaction_period_Evening</th>\n",
       "      <th>transaction_period_Late Night</th>\n",
       "      <th>transaction_period_Morning</th>\n",
       "      <th>transaction_period_Night</th>\n",
       "      <th>transaction_period_Noon</th>\n",
       "    </tr>\n",
       "  </thead>\n",
       "  <tbody>\n",
       "    <tr>\n",
       "      <th>0</th>\n",
       "      <td>6000</td>\n",
       "      <td>11.94</td>\n",
       "      <td>22.529007</td>\n",
       "      <td>53.062943</td>\n",
       "      <td>0.0</td>\n",
       "      <td>0.0</td>\n",
       "      <td>1.0</td>\n",
       "      <td>0.0</td>\n",
       "      <td>0.0</td>\n",
       "      <td>0.0</td>\n",
       "    </tr>\n",
       "    <tr>\n",
       "      <th>1</th>\n",
       "      <td>6000</td>\n",
       "      <td>5.76</td>\n",
       "      <td>22.461960</td>\n",
       "      <td>53.062943</td>\n",
       "      <td>0.0</td>\n",
       "      <td>1.0</td>\n",
       "      <td>0.0</td>\n",
       "      <td>0.0</td>\n",
       "      <td>0.0</td>\n",
       "      <td>0.0</td>\n",
       "    </tr>\n",
       "    <tr>\n",
       "      <th>2</th>\n",
       "      <td>6000</td>\n",
       "      <td>25.84</td>\n",
       "      <td>22.432627</td>\n",
       "      <td>53.062943</td>\n",
       "      <td>0.0</td>\n",
       "      <td>1.0</td>\n",
       "      <td>0.0</td>\n",
       "      <td>0.0</td>\n",
       "      <td>0.0</td>\n",
       "      <td>0.0</td>\n",
       "    </tr>\n",
       "    <tr>\n",
       "      <th>3</th>\n",
       "      <td>6000</td>\n",
       "      <td>68.89</td>\n",
       "      <td>22.537721</td>\n",
       "      <td>53.062943</td>\n",
       "      <td>0.0</td>\n",
       "      <td>1.0</td>\n",
       "      <td>0.0</td>\n",
       "      <td>0.0</td>\n",
       "      <td>0.0</td>\n",
       "      <td>0.0</td>\n",
       "    </tr>\n",
       "    <tr>\n",
       "      <th>4</th>\n",
       "      <td>6000</td>\n",
       "      <td>27.01</td>\n",
       "      <td>22.498179</td>\n",
       "      <td>53.062943</td>\n",
       "      <td>0.0</td>\n",
       "      <td>0.0</td>\n",
       "      <td>0.0</td>\n",
       "      <td>0.0</td>\n",
       "      <td>0.0</td>\n",
       "      <td>1.0</td>\n",
       "    </tr>\n",
       "  </tbody>\n",
       "</table>\n",
       "</div>"
      ],
      "text/plain": [
       "   credit_card_limit  transaction_dollar_amount  long_lat_distance  \\\n",
       "0               6000                      11.94          22.529007   \n",
       "1               6000                       5.76          22.461960   \n",
       "2               6000                      25.84          22.432627   \n",
       "3               6000                      68.89          22.537721   \n",
       "4               6000                      27.01          22.498179   \n",
       "\n",
       "   average_transactions  transaction_period_Early Morning  \\\n",
       "0             53.062943                               0.0   \n",
       "1             53.062943                               0.0   \n",
       "2             53.062943                               0.0   \n",
       "3             53.062943                               0.0   \n",
       "4             53.062943                               0.0   \n",
       "\n",
       "   transaction_period_Evening  transaction_period_Late Night  \\\n",
       "0                         0.0                            1.0   \n",
       "1                         1.0                            0.0   \n",
       "2                         1.0                            0.0   \n",
       "3                         1.0                            0.0   \n",
       "4                         0.0                            0.0   \n",
       "\n",
       "   transaction_period_Morning  transaction_period_Night  \\\n",
       "0                         0.0                       0.0   \n",
       "1                         0.0                       0.0   \n",
       "2                         0.0                       0.0   \n",
       "3                         0.0                       0.0   \n",
       "4                         0.0                       0.0   \n",
       "\n",
       "   transaction_period_Noon  \n",
       "0                      0.0  \n",
       "1                      0.0  \n",
       "2                      0.0  \n",
       "3                      0.0  \n",
       "4                      1.0  "
      ]
     },
     "execution_count": 27,
     "metadata": {},
     "output_type": "execute_result"
    }
   ],
   "source": [
    "enc = OneHotEncoder(handle_unknown='ignore')\n",
    "enc_df = pd.DataFrame(enc.fit_transform(model_data[['transaction_period']]).toarray())\n",
    "enc_df.columns = enc.get_feature_names(['transaction_period'])\n",
    "model_data = model_data.join(enc_df)\n",
    "model_data = model_data.drop(\"transaction_period\",axis=1)\n",
    "model_data.head()"
   ]
  },
  {
   "cell_type": "markdown",
   "metadata": {},
   "source": [
    "**Applying MinMaxScaler (Standardizing data) for Numerical features.**"
   ]
  },
  {
   "cell_type": "code",
   "execution_count": 28,
   "metadata": {},
   "outputs": [
    {
     "data": {
      "text/html": [
       "<div>\n",
       "<style scoped>\n",
       "    .dataframe tbody tr th:only-of-type {\n",
       "        vertical-align: middle;\n",
       "    }\n",
       "\n",
       "    .dataframe tbody tr th {\n",
       "        vertical-align: top;\n",
       "    }\n",
       "\n",
       "    .dataframe thead th {\n",
       "        text-align: right;\n",
       "    }\n",
       "</style>\n",
       "<table border=\"1\" class=\"dataframe\">\n",
       "  <thead>\n",
       "    <tr style=\"text-align: right;\">\n",
       "      <th></th>\n",
       "      <th>credit_card_limit</th>\n",
       "      <th>transaction_dollar_amount</th>\n",
       "      <th>long_lat_distance</th>\n",
       "      <th>average_transactions</th>\n",
       "      <th>transaction_period_Early Morning</th>\n",
       "      <th>transaction_period_Evening</th>\n",
       "      <th>transaction_period_Late Night</th>\n",
       "      <th>transaction_period_Morning</th>\n",
       "      <th>transaction_period_Night</th>\n",
       "      <th>transaction_period_Noon</th>\n",
       "    </tr>\n",
       "  </thead>\n",
       "  <tbody>\n",
       "    <tr>\n",
       "      <th>0</th>\n",
       "      <td>0.075472</td>\n",
       "      <td>0.011930</td>\n",
       "      <td>0.068594</td>\n",
       "      <td>0.184868</td>\n",
       "      <td>0.0</td>\n",
       "      <td>0.0</td>\n",
       "      <td>1.0</td>\n",
       "      <td>0.0</td>\n",
       "      <td>0.0</td>\n",
       "      <td>0.0</td>\n",
       "    </tr>\n",
       "    <tr>\n",
       "      <th>1</th>\n",
       "      <td>0.075472</td>\n",
       "      <td>0.005750</td>\n",
       "      <td>0.068389</td>\n",
       "      <td>0.184868</td>\n",
       "      <td>0.0</td>\n",
       "      <td>1.0</td>\n",
       "      <td>0.0</td>\n",
       "      <td>0.0</td>\n",
       "      <td>0.0</td>\n",
       "      <td>0.0</td>\n",
       "    </tr>\n",
       "    <tr>\n",
       "      <th>2</th>\n",
       "      <td>0.075472</td>\n",
       "      <td>0.025831</td>\n",
       "      <td>0.068300</td>\n",
       "      <td>0.184868</td>\n",
       "      <td>0.0</td>\n",
       "      <td>1.0</td>\n",
       "      <td>0.0</td>\n",
       "      <td>0.0</td>\n",
       "      <td>0.0</td>\n",
       "      <td>0.0</td>\n",
       "    </tr>\n",
       "    <tr>\n",
       "      <th>3</th>\n",
       "      <td>0.075472</td>\n",
       "      <td>0.068883</td>\n",
       "      <td>0.068620</td>\n",
       "      <td>0.184868</td>\n",
       "      <td>0.0</td>\n",
       "      <td>1.0</td>\n",
       "      <td>0.0</td>\n",
       "      <td>0.0</td>\n",
       "      <td>0.0</td>\n",
       "      <td>0.0</td>\n",
       "    </tr>\n",
       "    <tr>\n",
       "      <th>4</th>\n",
       "      <td>0.075472</td>\n",
       "      <td>0.027001</td>\n",
       "      <td>0.068500</td>\n",
       "      <td>0.184868</td>\n",
       "      <td>0.0</td>\n",
       "      <td>0.0</td>\n",
       "      <td>0.0</td>\n",
       "      <td>0.0</td>\n",
       "      <td>0.0</td>\n",
       "      <td>1.0</td>\n",
       "    </tr>\n",
       "  </tbody>\n",
       "</table>\n",
       "</div>"
      ],
      "text/plain": [
       "   credit_card_limit  transaction_dollar_amount  long_lat_distance  \\\n",
       "0           0.075472                   0.011930           0.068594   \n",
       "1           0.075472                   0.005750           0.068389   \n",
       "2           0.075472                   0.025831           0.068300   \n",
       "3           0.075472                   0.068883           0.068620   \n",
       "4           0.075472                   0.027001           0.068500   \n",
       "\n",
       "   average_transactions  transaction_period_Early Morning  \\\n",
       "0              0.184868                               0.0   \n",
       "1              0.184868                               0.0   \n",
       "2              0.184868                               0.0   \n",
       "3              0.184868                               0.0   \n",
       "4              0.184868                               0.0   \n",
       "\n",
       "   transaction_period_Evening  transaction_period_Late Night  \\\n",
       "0                         0.0                            1.0   \n",
       "1                         1.0                            0.0   \n",
       "2                         1.0                            0.0   \n",
       "3                         1.0                            0.0   \n",
       "4                         0.0                            0.0   \n",
       "\n",
       "   transaction_period_Morning  transaction_period_Night  \\\n",
       "0                         0.0                       0.0   \n",
       "1                         0.0                       0.0   \n",
       "2                         0.0                       0.0   \n",
       "3                         0.0                       0.0   \n",
       "4                         0.0                       0.0   \n",
       "\n",
       "   transaction_period_Noon  \n",
       "0                      0.0  \n",
       "1                      0.0  \n",
       "2                      0.0  \n",
       "3                      0.0  \n",
       "4                      1.0  "
      ]
     },
     "execution_count": 28,
     "metadata": {},
     "output_type": "execute_result"
    }
   ],
   "source": [
    "scaled_columns = ['credit_card_limit', 'transaction_dollar_amount', \"long_lat_distance\", \"average_transactions\"]\n",
    "scaler = MinMaxScaler()\n",
    "model_data[scaled_columns] = scaler.fit_transform(model_data[scaled_columns])\n",
    "model_data.head()"
   ]
  },
  {
   "cell_type": "markdown",
   "metadata": {},
   "source": [
    "# Train Test Split"
   ]
  },
  {
   "cell_type": "markdown",
   "metadata": {},
   "source": [
    "Distribution of the dataset -\n",
    "1. Total Dataset Shape = 294588 rows and 9 columns\n",
    "2. Train Set Shape = 206211 rows and 9 columns\n",
    "3. Validation set shape = 79539 rows and 9 columns\n",
    "4. Test set shape = 8838 rows and 9 columns"
   ]
  },
  {
   "cell_type": "code",
   "execution_count": 29,
   "metadata": {},
   "outputs": [],
   "source": [
    "x_train, x_val = train_test_split(model_data, test_size=0.30, random_state=42)\n",
    "x_val, x_test = train_test_split(x_val, test_size=0.10, random_state=42)"
   ]
  },
  {
   "cell_type": "code",
   "execution_count": 30,
   "metadata": {},
   "outputs": [
    {
     "name": "stdout",
     "output_type": "stream",
     "text": [
      "Total dataset shape (294588, 10)\n",
      "Training set shape (206211, 10)\n",
      "Validation set shape (79539, 10)\n",
      "Test set shape (8838, 10)\n"
     ]
    }
   ],
   "source": [
    "print(\"Total dataset shape\", model_data.shape)\n",
    "print(\"Training set shape\", x_train.shape)\n",
    "print(\"Validation set shape\", x_val.shape)\n",
    "print(\"Test set shape\", x_test.shape)"
   ]
  },
  {
   "cell_type": "code",
   "execution_count": 31,
   "metadata": {},
   "outputs": [
    {
     "data": {
      "text/plain": [
       "['x_test.pkl']"
      ]
     },
     "execution_count": 31,
     "metadata": {},
     "output_type": "execute_result"
    }
   ],
   "source": [
    "import joblib\n",
    "joblib.dump(x_train, \"x_train.pkl\")\n",
    "joblib.dump(x_val, \"x_val.pkl\")\n",
    "joblib.dump(x_test, \"x_test.pkl\")"
   ]
  },
  {
   "cell_type": "markdown",
   "metadata": {},
   "source": [
    "# Model Architecture"
   ]
  },
  {
   "cell_type": "markdown",
   "metadata": {},
   "source": [
    "**Model Config**"
   ]
  },
  {
   "cell_type": "code",
   "execution_count": 33,
   "metadata": {},
   "outputs": [],
   "source": [
    "input_dim = x_train.shape[1]\n",
    "BATCH_SIZE = 32\n",
    "EPOCHS = 5"
   ]
  },
  {
   "cell_type": "markdown",
   "metadata": {},
   "source": [
    "**Architecture**"
   ]
  },
  {
   "cell_type": "code",
   "execution_count": 34,
   "metadata": {},
   "outputs": [],
   "source": [
    "autoencoder = tf.keras.models.Sequential([\n",
    "    tf.keras.layers.Dense(input_dim, activation='elu', input_shape=(input_dim, )), \n",
    "    tf.keras.layers.Dense(4, activation='elu'),\n",
    "    tf.keras.layers.Dense(2, activation='elu'),\n",
    "    \n",
    "    # reconstruction / decode\n",
    "    tf.keras.layers.Dense(4, activation='elu'),\n",
    "    tf.keras.layers.Dense(input_dim, activation='elu')\n",
    "    \n",
    "])"
   ]
  },
  {
   "cell_type": "markdown",
   "metadata": {},
   "source": [
    "**Defining Optimizer, loss and metrics**"
   ]
  },
  {
   "cell_type": "code",
   "execution_count": 35,
   "metadata": {},
   "outputs": [],
   "source": [
    "autoencoder.compile(optimizer=\"adam\", loss=\"mse\", metrics=[\"acc\"])"
   ]
  },
  {
   "cell_type": "markdown",
   "metadata": {},
   "source": [
    "**Overview of the model**"
   ]
  },
  {
   "cell_type": "code",
   "execution_count": 36,
   "metadata": {},
   "outputs": [
    {
     "name": "stdout",
     "output_type": "stream",
     "text": [
      "Model: \"sequential\"\n",
      "_________________________________________________________________\n",
      "Layer (type)                 Output Shape              Param #   \n",
      "=================================================================\n",
      "dense (Dense)                (None, 10)                110       \n",
      "_________________________________________________________________\n",
      "dense_1 (Dense)              (None, 4)                 44        \n",
      "_________________________________________________________________\n",
      "dense_2 (Dense)              (None, 2)                 10        \n",
      "_________________________________________________________________\n",
      "dense_3 (Dense)              (None, 16)                48        \n",
      "_________________________________________________________________\n",
      "dense_4 (Dense)              (None, 10)                170       \n",
      "=================================================================\n",
      "Total params: 382\n",
      "Trainable params: 382\n",
      "Non-trainable params: 0\n",
      "_________________________________________________________________\n"
     ]
    }
   ],
   "source": [
    "# print an overview of our model\n",
    "autoencoder.summary();"
   ]
  },
  {
   "cell_type": "markdown",
   "metadata": {},
   "source": [
    "**Defining callbacks - Model Checkpoint, Tensorboard and Early Stopping**"
   ]
  },
  {
   "cell_type": "code",
   "execution_count": 39,
   "metadata": {},
   "outputs": [
    {
     "name": "stdout",
     "output_type": "stream",
     "text": [
      "WARNING:tensorflow:`write_grads` will be ignored in TensorFlow 2.0 for the `TensorBoard` Callback.\n"
     ]
    },
    {
     "name": "stderr",
     "output_type": "stream",
     "text": [
      "WARNING:tensorflow:`write_grads` will be ignored in TensorFlow 2.0 for the `TensorBoard` Callback.\n"
     ]
    },
    {
     "name": "stdout",
     "output_type": "stream",
     "text": [
      "ERROR! Session/line number was not unique in database. History logging moved to new session 296\n"
     ]
    }
   ],
   "source": [
    "checkpoint = ModelCheckpoint(\"./model_checkpoint/autoencoder_model.hdf5\", monitor='val_loss', verbose=1, save_best_only=True, mode='max')\n",
    "\n",
    "logdir = os.path.join(\"logs\", datetime.datetime.now().strftime(\"%Y%m%d-%H%M%S\"))\n",
    "tensorboard_callback = TensorBoard(logdir,histogram_freq=0, write_graph=True,write_grads=True)\n",
    "\n",
    "es = EarlyStopping(monitor='val_loss', mode='min', verbose = 1, patience=10)\n",
    "\n",
    "callbacks_list = [es, checkpoint, tensorboard_callback]"
   ]
  },
  {
   "cell_type": "code",
   "execution_count": 40,
   "metadata": {},
   "outputs": [
    {
     "name": "stdout",
     "output_type": "stream",
     "text": [
      "Train on 206211 samples, validate on 79539 samples\n",
      "Epoch 1/10\n",
      "204864/206211 [============================>.] - ETA: 0s - loss: 0.0158 - acc: 0.9267\n",
      "Epoch 00001: val_loss improved from -inf to 0.00743, saving model to ./model_checkpoint/autoencoder_model.hdf5\n",
      "206211/206211 [==============================] - 8s 39us/sample - loss: 0.0158 - acc: 0.9271 - val_loss: 0.0074 - val_acc: 0.9891\n",
      "Epoch 2/10\n",
      "206016/206211 [============================>.] - ETA: 0s - loss: 0.0051 - acc: 0.9898\n",
      "Epoch 00002: val_loss did not improve from 0.00743\n",
      "206211/206211 [==============================] - 7s 36us/sample - loss: 0.0051 - acc: 0.9898 - val_loss: 0.0033 - val_acc: 0.9924\n",
      "Epoch 3/10\n",
      "205632/206211 [============================>.] - ETA: 0s - loss: 0.0032 - acc: 0.9926\n",
      "Epoch 00003: val_loss did not improve from 0.00743\n",
      "206211/206211 [==============================] - 8s 38us/sample - loss: 0.0032 - acc: 0.9926 - val_loss: 0.0032 - val_acc: 0.9928\n",
      "Epoch 4/10\n",
      "204800/206211 [============================>.] - ETA: 0s - loss: 0.0031 - acc: 0.9929\n",
      "Epoch 00004: val_loss did not improve from 0.00743\n",
      "206211/206211 [==============================] - 8s 37us/sample - loss: 0.0031 - acc: 0.9929 - val_loss: 0.0031 - val_acc: 0.9957\n",
      "Epoch 5/10\n",
      "205376/206211 [============================>.] - ETA: 0s - loss: 0.0031 - acc: 0.9930\n",
      "Epoch 00005: val_loss did not improve from 0.00743\n",
      "206211/206211 [==============================] - 8s 38us/sample - loss: 0.0031 - acc: 0.9930 - val_loss: 0.0030 - val_acc: 0.9929\n",
      "Epoch 6/10\n",
      "204800/206211 [============================>.] - ETA: 0s - loss: 0.0031 - acc: 0.9929\n",
      "Epoch 00006: val_loss did not improve from 0.00743\n",
      "206211/206211 [==============================] - 8s 37us/sample - loss: 0.0031 - acc: 0.9930 - val_loss: 0.0031 - val_acc: 0.9930\n",
      "Epoch 7/10\n",
      "205888/206211 [============================>.] - ETA: 0s - loss: 0.0031 - acc: 0.9929\n",
      "Epoch 00007: val_loss did not improve from 0.00743\n",
      "206211/206211 [==============================] - 8s 37us/sample - loss: 0.0031 - acc: 0.9929 - val_loss: 0.0030 - val_acc: 0.9929\n",
      "Epoch 8/10\n",
      "205696/206211 [============================>.] - ETA: 0s - loss: 0.0031 - acc: 0.9930\n",
      "Epoch 00008: val_loss did not improve from 0.00743\n",
      "206211/206211 [==============================] - 8s 39us/sample - loss: 0.0031 - acc: 0.9929 - val_loss: 0.0030 - val_acc: 0.9929\n",
      "Epoch 9/10\n",
      "204736/206211 [============================>.] - ETA: 0s - loss: 0.0031 - acc: 0.9929\n",
      "Epoch 00009: val_loss did not improve from 0.00743\n",
      "206211/206211 [==============================] - 8s 38us/sample - loss: 0.0031 - acc: 0.9929 - val_loss: 0.0030 - val_acc: 0.9930\n",
      "Epoch 10/10\n",
      "204736/206211 [============================>.] - ETA: 0s - loss: 0.0031 - acc: 0.9930\n",
      "Epoch 00010: val_loss did not improve from 0.00743\n",
      "206211/206211 [==============================] - 8s 39us/sample - loss: 0.0031 - acc: 0.9930 - val_loss: 0.0030 - val_acc: 0.9929\n"
     ]
    }
   ],
   "source": [
    "history = autoencoder.fit(\n",
    "    x_train, x_train,\n",
    "    shuffle=True,\n",
    "    epochs=EPOCHS,\n",
    "    batch_size=BATCH_SIZE,\n",
    "    callbacks=callbacks_list,\n",
    "    validation_data=(x_val, x_val)\n",
    ");"
   ]
  },
  {
   "cell_type": "markdown",
   "metadata": {},
   "source": [
    "**Getting the reconstruction error for test set**"
   ]
  },
  {
   "cell_type": "code",
   "execution_count": 41,
   "metadata": {},
   "outputs": [],
   "source": [
    "reconstructions = autoencoder.predict(x_test)"
   ]
  },
  {
   "cell_type": "markdown",
   "metadata": {},
   "source": [
    "**Calculating MSE**"
   ]
  },
  {
   "cell_type": "code",
   "execution_count": 42,
   "metadata": {},
   "outputs": [],
   "source": [
    "mse = np.mean(np.power(x_test - reconstructions, 2), axis=1)"
   ]
  },
  {
   "cell_type": "code",
   "execution_count": 43,
   "metadata": {},
   "outputs": [],
   "source": [
    "def mad_scores(points):\n",
    "    m = np.median(points)\n",
    "    ad = np.abs(points - m)\n",
    "    mad = np.median(ad)\n",
    "    \n",
    "    return 0.6745 * ad / mad\n",
    "\n",
    "threshold = 3\n",
    "z_scores = mad_scores(mse)\n",
    "outliers = z_scores > threshold"
   ]
  },
  {
   "cell_type": "code",
   "execution_count": 46,
   "metadata": {},
   "outputs": [
    {
     "data": {
      "text/plain": [
       "False    7554\n",
       "True     1284\n",
       "dtype: int64"
      ]
     },
     "execution_count": 46,
     "metadata": {},
     "output_type": "execute_result"
    }
   ],
   "source": [
    "outliers.value_counts()"
   ]
  },
  {
   "cell_type": "markdown",
   "metadata": {},
   "source": [
    "**Observation**\n",
    "1. Total Test Set Size is 8838. 1284 Transactions are reported as fradulent and 7554 as Non-Fradulent transaction.\n",
    "2. 14.52% of the test set is reported as fradulent."
   ]
  },
  {
   "cell_type": "code",
   "execution_count": null,
   "metadata": {},
   "outputs": [],
   "source": []
  }
 ],
 "metadata": {
  "kernelspec": {
   "display_name": "TensorFlow-GPU-2.1.0",
   "language": "python",
   "name": "tf-gpu"
  },
  "language_info": {
   "codemirror_mode": {
    "name": "ipython",
    "version": 3
   },
   "file_extension": ".py",
   "mimetype": "text/x-python",
   "name": "python",
   "nbconvert_exporter": "python",
   "pygments_lexer": "ipython3",
   "version": "3.7.9"
  }
 },
 "nbformat": 4,
 "nbformat_minor": 4
}
